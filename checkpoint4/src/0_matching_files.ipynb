{
 "cells": [
  {
   "cell_type": "markdown",
   "metadata": {},
   "source": [
    "# The data that we want to use come in multiple files. This code allows us to to combine or \"merge\" these files into a single DataFrame to analyze the data. "
   ]
  },
  {
   "cell_type": "code",
   "execution_count": 1,
   "metadata": {},
   "outputs": [],
   "source": [
    "import pandas as pd #import pandas\n",
    "import os"
   ]
  },
  {
   "cell_type": "code",
   "execution_count": 2,
   "metadata": {},
   "outputs": [
    {
     "name": "stderr",
     "output_type": "stream",
     "text": [
      "/usr/local/lib/python3.7/site-packages/IPython/core/interactiveshell.py:3049: DtypeWarning: Columns (0,2,3) have mixed types. Specify dtype option on import or set low_memory=False.\n",
      "  interactivity=interactivity, compiler=compiler, result=result)\n"
     ]
    }
   ],
   "source": [
    "#read each file\n",
    "df1 = pd.read_csv(os.getcwd() + os.sep + 'data' + os.sep + 'data_officerallegation.csv', names=['officer_id', 'final_outcome','allegation', 'allegation_category_id'])\n",
    "df2 = pd.read_csv(os.getcwd() + os.sep + 'data' + os.sep + 'data_allegationcategory.csv', names=['allegation_name','allegation_category_id'])\n",
    "#merge outer matches commen allegation ids found in data_officerallegation.csv and data_allegationcategory.csv \n",
    "merged = pd.merge(df1, df2, on='allegation_category_id', how='outer') "
   ]
  },
  {
   "cell_type": "code",
   "execution_count": 6,
   "metadata": {},
   "outputs": [],
   "source": [
    "#create a new file, \"Not Found\" when a match is not made\n",
    "merged.to_csv('results_officer_allegations.csv', header=False, index=False, na_rep='Not found')"
   ]
  },
  {
   "cell_type": "markdown",
   "metadata": {},
   "source": [
    "Using \"allegation_id\" we match victims to officers from results_officer_alligations.csv file"
   ]
  },
  {
   "cell_type": "code",
   "execution_count": 10,
   "metadata": {},
   "outputs": [],
   "source": [
    "df1 = pd.read_csv('results_officer_allegations.csv', names=['officer_id', 'final_outcome', 'allegation','allegation_id'])\n",
    "df2 = pd.read_csv(os.getcwd() + os.sep + 'data' + os.sep + 'data_victim.csv', names=['race','allegation_id'])\n",
    "merged = pd.merge(df1, df2, on='allegation_id', how='outer')"
   ]
  },
  {
   "cell_type": "code",
   "execution_count": 11,
   "metadata": {},
   "outputs": [],
   "source": [
    "#create a new file, \"Not Found\" when a match is not made\n",
    "merged.to_csv('results_victimrace_officer_allegations.csv', header=False, index=False, na_rep='Not found')"
   ]
  }
 ],
 "metadata": {
  "kernelspec": {
   "display_name": "Python 3",
   "language": "python",
   "name": "python3"
  },
  "language_info": {
   "codemirror_mode": {
    "name": "ipython",
    "version": 3
   },
   "file_extension": ".py",
   "mimetype": "text/x-python",
   "name": "python",
   "nbconvert_exporter": "python",
   "pygments_lexer": "ipython3",
   "version": "3.7.4"
  }
 },
 "nbformat": 4,
 "nbformat_minor": 2
}
