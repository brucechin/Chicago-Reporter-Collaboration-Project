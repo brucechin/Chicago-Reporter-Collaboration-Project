{
 "cells": [
  {
   "cell_type": "code",
   "execution_count": 23,
   "metadata": {
    "pycharm": {
     "is_executing": false
    }
   },
   "outputs": [],
   "source": [
    "import os\n",
    "\n",
    "import itertools\n",
    "import collections\n",
    "\n",
    "import pandas as pd\n",
    "import matplotlib.pyplot as plt\n",
    "\n",
    "import community\n",
    "import networkx as nx"
   ]
  },
  {
   "cell_type": "code",
   "execution_count": 24,
   "metadata": {
    "pycharm": {
     "is_executing": false
    }
   },
   "outputs": [],
   "source": [
    "df_allegations = pd.read_csv('results_victimrace_officer_allegations.csv')"
   ]
  },
  {
   "cell_type": "code",
   "execution_count": 25,
   "metadata": {
    "pycharm": {
     "is_executing": false
    }
   },
   "outputs": [
    {
     "data": {
      "text/plain": "   allegation_id  officer_id    final_outcome                     allegation  \\\n0          27716       22414  No Action Taken  Illegal Arrest / False Arrest   \n1          27716       22414  No Action Taken  Illegal Arrest / False Arrest   \n2          27716        9389  No Action Taken  Illegal Arrest / False Arrest   \n3          27716        9389  No Action Taken  Illegal Arrest / False Arrest   \n4          27716        7423  No Action Taken  Illegal Arrest / False Arrest   \n\n  victim_race  \n0   Not found  \n1   Not found  \n2   Not found  \n3   Not found  \n4   Not found  ",
      "text/html": "<div>\n<style scoped>\n    .dataframe tbody tr th:only-of-type {\n        vertical-align: middle;\n    }\n\n    .dataframe tbody tr th {\n        vertical-align: top;\n    }\n\n    .dataframe thead th {\n        text-align: right;\n    }\n</style>\n<table border=\"1\" class=\"dataframe\">\n  <thead>\n    <tr style=\"text-align: right;\">\n      <th></th>\n      <th>allegation_id</th>\n      <th>officer_id</th>\n      <th>final_outcome</th>\n      <th>allegation</th>\n      <th>victim_race</th>\n    </tr>\n  </thead>\n  <tbody>\n    <tr>\n      <th>0</th>\n      <td>27716</td>\n      <td>22414</td>\n      <td>No Action Taken</td>\n      <td>Illegal Arrest / False Arrest</td>\n      <td>Not found</td>\n    </tr>\n    <tr>\n      <th>1</th>\n      <td>27716</td>\n      <td>22414</td>\n      <td>No Action Taken</td>\n      <td>Illegal Arrest / False Arrest</td>\n      <td>Not found</td>\n    </tr>\n    <tr>\n      <th>2</th>\n      <td>27716</td>\n      <td>9389</td>\n      <td>No Action Taken</td>\n      <td>Illegal Arrest / False Arrest</td>\n      <td>Not found</td>\n    </tr>\n    <tr>\n      <th>3</th>\n      <td>27716</td>\n      <td>9389</td>\n      <td>No Action Taken</td>\n      <td>Illegal Arrest / False Arrest</td>\n      <td>Not found</td>\n    </tr>\n    <tr>\n      <th>4</th>\n      <td>27716</td>\n      <td>7423</td>\n      <td>No Action Taken</td>\n      <td>Illegal Arrest / False Arrest</td>\n      <td>Not found</td>\n    </tr>\n  </tbody>\n</table>\n</div>"
     },
     "metadata": {},
     "output_type": "execute_result",
     "execution_count": 25
    }
   ],
   "source": [
    "df_allegations.head()"
   ]
  },
  {
   "cell_type": "code",
   "execution_count": 26,
   "metadata": {
    "pycharm": {
     "is_executing": false
    }
   },
   "outputs": [],
   "source": [
    "df_allegations = df_allegations[df_allegations['victim_race'] == 'White']"
   ]
  },
  {
   "cell_type": "code",
   "execution_count": 27,
   "metadata": {
    "pycharm": {
     "is_executing": false
    }
   },
   "outputs": [
    {
     "data": {
      "text/plain": "    allegation_id  officer_id    final_outcome                     allegation  \\\n56          27724       28481  No Action Taken  Illegal Arrest / False Arrest   \n57          27724       28481  No Action Taken  Illegal Arrest / False Arrest   \n58          27724        3097  No Action Taken  Illegal Arrest / False Arrest   \n59          27724        3097  No Action Taken  Illegal Arrest / False Arrest   \n60          27724        8287  No Action Taken  Illegal Arrest / False Arrest   \n\n   victim_race  \n56       White  \n57       White  \n58       White  \n59       White  \n60       White  ",
      "text/html": "<div>\n<style scoped>\n    .dataframe tbody tr th:only-of-type {\n        vertical-align: middle;\n    }\n\n    .dataframe tbody tr th {\n        vertical-align: top;\n    }\n\n    .dataframe thead th {\n        text-align: right;\n    }\n</style>\n<table border=\"1\" class=\"dataframe\">\n  <thead>\n    <tr style=\"text-align: right;\">\n      <th></th>\n      <th>allegation_id</th>\n      <th>officer_id</th>\n      <th>final_outcome</th>\n      <th>allegation</th>\n      <th>victim_race</th>\n    </tr>\n  </thead>\n  <tbody>\n    <tr>\n      <th>56</th>\n      <td>27724</td>\n      <td>28481</td>\n      <td>No Action Taken</td>\n      <td>Illegal Arrest / False Arrest</td>\n      <td>White</td>\n    </tr>\n    <tr>\n      <th>57</th>\n      <td>27724</td>\n      <td>28481</td>\n      <td>No Action Taken</td>\n      <td>Illegal Arrest / False Arrest</td>\n      <td>White</td>\n    </tr>\n    <tr>\n      <th>58</th>\n      <td>27724</td>\n      <td>3097</td>\n      <td>No Action Taken</td>\n      <td>Illegal Arrest / False Arrest</td>\n      <td>White</td>\n    </tr>\n    <tr>\n      <th>59</th>\n      <td>27724</td>\n      <td>3097</td>\n      <td>No Action Taken</td>\n      <td>Illegal Arrest / False Arrest</td>\n      <td>White</td>\n    </tr>\n    <tr>\n      <th>60</th>\n      <td>27724</td>\n      <td>8287</td>\n      <td>No Action Taken</td>\n      <td>Illegal Arrest / False Arrest</td>\n      <td>White</td>\n    </tr>\n  </tbody>\n</table>\n</div>"
     },
     "metadata": {},
     "output_type": "execute_result",
     "execution_count": 27
    }
   ],
   "source": [
    "df_allegations.head()"
   ]
  },
  {
   "cell_type": "code",
   "execution_count": 28,
   "metadata": {
    "pycharm": {
     "is_executing": false
    }
   },
   "outputs": [
    {
     "data": {
      "text/plain": "12638"
     },
     "metadata": {},
     "output_type": "execute_result",
     "execution_count": 28
    }
   ],
   "source": [
    "len(df_allegations)"
   ]
  },
  {
   "cell_type": "code",
   "execution_count": 29,
   "metadata": {
    "pycharm": {
     "is_executing": false
    }
   },
   "outputs": [],
   "source": [
    "df_officer_allegations = df_allegations[['officer_id', 'allegation']]"
   ]
  },
  {
   "cell_type": "code",
   "execution_count": 30,
   "metadata": {
    "pycharm": {
     "is_executing": false
    }
   },
   "outputs": [],
   "source": [
    "df_officer_allegations = df_officer_allegations.groupby('officer_id')['allegation'].apply(list)"
   ]
  },
  {
   "cell_type": "code",
   "execution_count": 31,
   "metadata": {
    "pycharm": {
     "is_executing": false
    }
   },
   "outputs": [],
   "source": [
    "def generate_edges(list_of_alleg):\n",
    "    return [(list_of_alleg[i], list_of_alleg[i+1])for i in range(0,len(list_of_alleg)-1)]"
   ]
  },
  {
   "cell_type": "code",
   "execution_count": 32,
   "metadata": {
    "pycharm": {
     "is_executing": false
    }
   },
   "outputs": [],
   "source": [
    "edges = []\n",
    "\n",
    "for row in df_officer_allegations:\n",
    "    count = len(row)\n",
    "    if count > 1:\n",
    "        edges.extend(generate_edges(row))"
   ]
  },
  {
   "cell_type": "code",
   "execution_count": 33,
   "metadata": {
    "pycharm": {
     "is_executing": false
    }
   },
   "outputs": [
    {
     "data": {
      "text/plain": "[('Unnecessary Display Of Weapon / On Duty',\n  'Unnecessary Display Of Weapon / On Duty'),\n ('Unnecessary Display Of Weapon / On Duty',\n  'Unnecessary Display Of Weapon / On Duty'),\n ('Unnecessary Display Of Weapon / On Duty',\n  'Unnecessary Display Of Weapon / On Duty'),\n ('Unnecessary Display Of Weapon / On Duty',\n  'Unnecessary Display Of Weapon / On Duty'),\n ('Unnecessary Display Of Weapon / On Duty',\n  'Unnecessary Display Of Weapon / On Duty'),\n ('Unnecessary Display Of Weapon / On Duty',\n  'Domestic Altercation - Physical Abuse'),\n ('Domestic Altercation - Physical Abuse',\n  'Domestic Altercation - Physical Abuse'),\n ('Domestic Incident - Not Physical', 'Domestic Incident - Not Physical'),\n ('Inadequate / Failure To Provide Service',\n  'Inadequate / Failure To Provide Service'),\n ('Use Of Profanity', 'Neglect Of Duty'),\n ('Neglect Of Duty', 'Neglect Of Duty'),\n ('Unnecessary Display Of Weapon / Off Duty',\n  'Unnecessary Display Of Weapon / Off Duty'),\n ('Unnecessary Display Of Weapon / Off Duty',\n  'Excessive Force / On Duty - Injury'),\n ('Excessive Force / On Duty - Injury', 'Excessive Force / On Duty - Injury'),\n ('Inadequate / Failure To Provide Service',\n  'Inadequate / Failure To Provide Service'),\n ('Inadequate / Failure To Provide Service', 'Take Down (Thrown To Ground)'),\n ('Take Down (Thrown To Ground)', 'Take Down (Thrown To Ground)'),\n ('Take Down (Thrown To Ground)', 'Take Down (Thrown To Ground)'),\n ('Take Down (Thrown To Ground)', 'Take Down (Thrown To Ground)'),\n ('Take Down (Thrown To Ground)', 'Excessive Force / On Duty - Injury'),\n ('Excessive Force / On Duty - Injury', 'Excessive Force / On Duty - Injury'),\n ('Excessive Force / On Duty - Injury', 'Excessive Force / On Duty - Injury'),\n ('Excessive Force / On Duty - Injury', 'Excessive Force / On Duty - Injury'),\n ('Inadequate / Failure To Provide Service',\n  'Search Of Premise Without Warrant'),\n ('Search Of Premise Without Warrant',\n  'Inadequate / Failure To Provide Service'),\n ('Inadequate / Failure To Provide Service',\n  'Inadequate / Failure To Provide Service'),\n ('Inadequate / Failure To Provide Service',\n  'Unnecessary Physical Contact / On Duty - No Injury'),\n ('Inadequate / Failure To Provide Service', 'Neglect Of Duty'),\n ('Excessive Force / On Duty - Injury',\n  'Inadequate / Failure To Provide Service'),\n ('Miscellaneous', 'Unnecessary Physical Contact / On Duty - No Injury'),\n ('Unnecessary Physical Contact / On Duty - No Injury',\n  'Unnecessary Physical Contact / On Duty - No Injury'),\n ('Unnecessary Physical Contact / On Duty - No Injury', 'Sexual Orientation'),\n ('Sexual Orientation', 'Sexual Orientation'),\n ('Illegal Arrest / False Arrest', 'Illegal Arrest / False Arrest'),\n ('Inadequate / Failure To Provide Service',\n  'Unnecessary Display Of Weapon / Off Duty'),\n ('Unnecessary Display Of Weapon / Off Duty',\n  'Unnecessary Display Of Weapon / Off Duty'),\n ('Inadequate / Failure To Provide Service',\n  'Inadequate / Failure To Provide Service'),\n ('Unnecessary Display Of Weapon / On Duty',\n  'Unnecessary Display Of Weapon / On Duty'),\n ('Proper Care - Injury / Death', 'Proper Care - Injury / Death'),\n ('Proper Care - Injury / Death', 'Excessive Force / On Duty - No Injury'),\n ('Excessive Force / On Duty - No Injury',\n  'Excessive Force / On Duty - No Injury'),\n ('Insubordination', 'Excessive Force / On Duty - Injury'),\n ('Excessive Force / On Duty - Injury', 'Excessive Force / On Duty - Injury'),\n ('Excessive Force / On Duty - Injury',\n  'Inadequate / Failure To Provide Service'),\n ('Inadequate / Failure To Provide Service', 'Improper Search Of Vehicle'),\n ('Improper Search Of Vehicle', 'Neglect Of Duty'),\n ('Neglect Of Duty', 'Inadequate / Failure To Provide Service'),\n ('Inadequate / Failure To Provide Service',\n  'Inadequate / Failure To Provide Service'),\n ('Inadequate / Failure To Provide Service',\n  'Inadequate / Failure To Provide Service'),\n ('Inadequate / Failure To Provide Service',\n  'Inadequate / Failure To Provide Service'),\n ('Improper Search Of Vehicle', 'Improper Search Of Vehicle'),\n ('Inadequate / Failure To Provide Service',\n  'Inadequate / Failure To Provide Service'),\n ('Excessive Force / On Duty - Injury', 'Excessive Force / On Duty - Injury'),\n ('Excessive Force / On Duty - Injury', 'Excessive Force / On Duty - Injury'),\n ('Improper Search Of Vehicle', 'Improper Search Of Vehicle'),\n ('Domestic Altercation - Physical Abuse',\n  'Domestic Altercation - Physical Abuse'),\n ('Domestic Altercation - Physical Abuse',\n  'Domestic Altercation - Physical Abuse'),\n ('Domestic Altercation - Physical Abuse',\n  'Domestic Altercation - Physical Abuse'),\n ('Domestic Altercation - Physical Abuse',\n  'Altercation / Disturbance - Traffic'),\n ('Altercation / Disturbance - Traffic',\n  'Altercation / Disturbance - Traffic'),\n ('Improper Processing / Reporting / Procedures',\n  'Domestic Altercation - Physical Abuse'),\n ('Domestic Altercation - Physical Abuse',\n  'Domestic Altercation - Physical Abuse'),\n ('Domestic Altercation - Physical Abuse',\n  'Domestic Altercation - Physical Abuse'),\n ('Domestic Altercation - Physical Abuse',\n  'Domestic Altercation - Physical Abuse'),\n ('Domestic Altercation - Physical Abuse',\n  'Domestic Altercation - Physical Abuse'),\n ('Prisoners Property', 'Illegal Arrest / False Arrest'),\n ('Illegal Arrest / False Arrest', 'Illegal Arrest / False Arrest'),\n ('Excessive Force / On Duty - Injury', 'Excessive Force / On Duty - Injury'),\n ('Excessive Force / On Duty - Injury', 'Excessive Force / On Duty - Injury'),\n ('Excessive Force / On Duty - Injury', 'Excessive Force / On Duty - Injury'),\n ('Domestic Incident - Not Physical', 'Domestic Incident - Not Physical'),\n ('Domestic Incident - Not Physical', 'Racial / Ethnic, Etc.'),\n ('Racial / Ethnic, Etc.', 'Sexual Orientation'),\n ('Sexual Orientation', 'Sexual Orientation'),\n ('Sexual Orientation', 'Illegal Arrest / False Arrest'),\n ('Racial / Ethnic, Etc.', 'Racial / Ethnic, Etc.'),\n ('Racial / Ethnic, Etc.', 'Search Of Premise Without Warrant'),\n ('Search Of Premise Without Warrant', 'Search Of Premise Without Warrant'),\n ('Search Of Premise Without Warrant', 'Improper Search Of Vehicle'),\n ('Improper Search Of Vehicle', 'Improper Search Of Vehicle'),\n ('Miscellaneous', 'Inadequate / Failure To Provide Service'),\n ('Inadequate / Failure To Provide Service',\n  'Inadequate / Failure To Provide Service'),\n ('Inadequate / Failure To Provide Service',\n  'Excessive Force / On Duty - No Injury'),\n ('Excessive Force / On Duty - No Injury',\n  'Excessive Force / On Duty - No Injury'),\n ('Excessive Force / On Duty - Injury', 'Excessive Force / On Duty - Injury'),\n ('Excessive Force / On Duty - Injury', 'Miscellaneous'),\n ('Miscellaneous', 'Excessive Force / On Duty - Injury'),\n ('Excessive Force / On Duty - Injury', 'Excessive Force / On Duty - Injury'),\n ('Use Of Official Position', 'Injury'),\n ('Injury', 'Injury'),\n ('Inadequate / Failure To Provide Service',\n  'Inadequate / Failure To Provide Service'),\n ('Closed Hand Strike (Punch)', 'Closed Hand Strike (Punch)'),\n ('Neglect Of Duty', 'Neglect Of Duty'),\n ('Neglect Of Duty', 'Domestic Altercation - Physical Abuse'),\n ('Domestic Altercation - Physical Abuse',\n  'Domestic Altercation - Physical Abuse'),\n ('Domestic Altercation - Physical Abuse',\n  'Domestic Altercation - Physical Abuse'),\n ('Racial / Ethnic, Etc.', 'Racial / Ethnic, Etc.'),\n ('Miscellaneous', 'Miscellaneous'),\n ('Miscellaneous', 'Miscellaneous'),\n ('Miscellaneous', 'Miscellaneous'),\n ('Excessive Force / Off Duty - Injury',\n  'Excessive Force / Off Duty - Injury'),\n ('Excessive Force / Off Duty - Injury',\n  'Inadequate / Failure To Provide Service'),\n ('Search Of Premise Without Warrant', 'Search Of Premise Without Warrant'),\n ('Search Of Premise Without Warrant', 'Search Of Premise Without Warrant'),\n ('Search Of Premise Without Warrant', 'Search Of Premise Without Warrant'),\n ('Search Of Premise Without Warrant',\n  'Misconduct During Issuance Of Citation'),\n ('Prisoners Property', 'Excessive Force / On Duty - Injury'),\n ('Excessive Force / On Duty - Injury', 'Excessive Force / On Duty - Injury'),\n ('Neglect Of Duty', 'Inadequate / Failure To Provide Service'),\n ('Inadequate / Failure To Provide Service',\n  'Inadequate / Failure To Provide Service'),\n ('Excessive Force / On Duty - Injury', 'Excessive Force / On Duty - Injury'),\n ('Excessive Force / On Duty - Injury', 'Excessive Force / On Duty - Injury'),\n ('Excessive Force / On Duty - Injury', 'Criminal Sexual Assault'),\n ('Criminal Sexual Assault', 'Criminal Sexual Assault'),\n ('Criminal Sexual Assault', 'Inadequate / Failure To Provide Service'),\n ('Improper Search Of Person', 'Improper Search Of Person'),\n ('Improper Search Of Person', 'Sexual Orientation'),\n ('Sexual Orientation', 'Sexual Orientation'),\n ('Unnecessary Display Of Weapon / Off Duty',\n  'Unnecessary Display Of Weapon / Off Duty'),\n ('Unnecessary Display Of Weapon / Off Duty',\n  'Domestic Altercation - Physical Abuse'),\n ('Domestic Altercation - Physical Abuse',\n  'Domestic Altercation - Physical Abuse'),\n ('Improper Search Of Vehicle', 'Improper Search Of Vehicle'),\n ('Illegal Arrest / False Arrest', 'Illegal Arrest / False Arrest'),\n ('Inadequate / Failure To Provide Service',\n  'Inadequate / Failure To Provide Service'),\n ('Search Of Premise Without Warrant', 'Search Of Premise Without Warrant'),\n ('Search Of Premise Without Warrant', 'Search Of Premise Without Warrant'),\n ('Search Of Premise Without Warrant', 'Excessive Force / On Duty - Injury'),\n ('Excessive Force / On Duty - Injury', 'Excessive Force / On Duty - Injury'),\n ('Unnecessary Display Of Weapon / On Duty',\n  'Unnecessary Display Of Weapon / On Duty'),\n ('Inadequate / Failure To Provide Service',\n  'Improper Processing / Reporting / Procedures'),\n ('Prisoners Property', 'Prisoners Property'),\n ('Prisoners Property', 'Illegal Arrest / False Arrest'),\n ('Search Of Premise Without Warrant', 'Search Of Premise Without Warrant'),\n ('Search Of Premise Without Warrant', 'Improper Search Of Vehicle'),\n ('Improper Search Of Vehicle', 'Improper Search Of Vehicle'),\n ('Firearm Discharge With Hits - Handgun',\n  'Firearm Discharge With Hits - Handgun'),\n ('Domestic Altercation - Physical Abuse',\n  'Domestic Altercation - Physical Abuse'),\n ('Domestic Altercation - Physical Abuse',\n  'Domestic Altercation - Physical Abuse'),\n ('Racial Profiling', 'Racial Profiling'),\n ('Racial Profiling', 'Racial Profiling'),\n ('Eeo Investigations', 'Eeo Investigations'),\n ('Eeo Investigations', 'Eeo Investigations'),\n ('Eeo Investigations', 'Eeo Investigations'),\n ('Eeo Investigations', 'Eeo Investigations'),\n ('Eeo Investigations', 'Eeo Investigations'),\n ('Eeo Investigations', 'Excessive Force / On Duty - Injury'),\n ('Excessive Force / On Duty - Injury', 'Excessive Force / On Duty - Injury'),\n ('Excessive Force / On Duty - Injury', 'Excessive Force / On Duty - Injury'),\n ('Excessive Force / On Duty - Injury', 'Excessive Force / On Duty - Injury'),\n ('Excessive Force / On Duty - Injury', 'Miscellaneous'),\n ('Miscellaneous', 'Miscellaneous'),\n ('Miscellaneous', 'Association With Felon'),\n ('Association With Felon', 'Association With Felon'),\n ('Miscellaneous', 'Miscellaneous'),\n ('Inadequate / Failure To Provide Service',\n  'Inadequate / Failure To Provide Service'),\n ('Inadequate / Failure To Provide Service',\n  'Inadequate / Failure To Provide Service'),\n ('Inadequate / Failure To Provide Service', 'Neglect Of Duty'),\n ('Neglect Of Duty', 'Neglect Of Duty'),\n ('Domestic Incident - Not Physical', 'Domestic Incident - Not Physical'),\n ('Miscellaneous', 'Miscellaneous'),\n ('Illegal Arrest / False Arrest', 'Illegal Arrest / False Arrest'),\n ('Eeo Investigations', 'Eeo Investigations'),\n ('Association With Felon', 'Association With Felon'),\n ('Association With Felon', 'Association With Felon'),\n ('Association With Felon', 'Inadequate / Failure To Provide Service'),\n ('Damage / Trespassing To Property', 'Damage / Trespassing To Property'),\n ('Illegal Arrest / False Arrest', 'Illegal Arrest / False Arrest'),\n ('Illegal Arrest / False Arrest', 'Improper Search Of Person'),\n ('Neglect Of Duty', 'Neglect Of Duty'),\n ('Inadequate / Failure To Provide Service',\n  'Inadequate / Failure To Provide Service'),\n ('Improper Search Of Vehicle', 'Improper Search Of Vehicle'),\n ('Improper Search Of Vehicle', 'Improper Search Of Vehicle'),\n ('Improper Search Of Vehicle', 'Improper Search Of Vehicle'),\n ('Improper Search Of Vehicle', 'Improper Search Of Vehicle'),\n ('Improper Search Of Vehicle', 'Improper Search Of Vehicle'),\n ('Neglect Of Duty', 'Neglect Of Duty'),\n ('Altercation / Disturbance - Traffic',\n  'Inadequate / Failure To Provide Service'),\n ('Search Of Premise Without Warrant', 'Excessive Force / On Duty - Injury'),\n ('Excessive Force / On Duty - Injury', 'Excessive Force / On Duty - Injury'),\n ('Neglect Of Duty', 'Neglect Of Duty'),\n ('Excessive Force / On Duty - Injury', 'Excessive Force / On Duty - Injury'),\n ('Improper Search Of Vehicle', 'Improper Search Of Vehicle'),\n ('Search Of Premise Without Warrant', 'Search Of Premise Without Warrant'),\n ('Search Of Premise Without Warrant',\n  'Excessive Force / On Duty - No Injury'),\n ('Excessive Force / On Duty - No Injury',\n  'Excessive Force / On Duty - No Injury'),\n ('Inadequate / Failure To Provide Service', 'Reports'),\n ('Reports', 'Reports'),\n ('Reports', 'Inadequate / Failure To Provide Service'),\n ('Inadequate / Failure To Provide Service',\n  'Inadequate / Failure To Provide Service'),\n ('Inadequate / Failure To Provide Service', 'Miscellaneous'),\n ('Miscellaneous', 'Proper Care - Injury / Death'),\n ('Proper Care - Injury / Death', 'Proper Care - Injury / Death'),\n ('Illegal Arrest / False Arrest', 'Illegal Arrest / False Arrest'),\n ('Eeo Investigations', 'Eeo Investigations'),\n ('Excessive Force / On Duty - Injury', 'Excessive Force / On Duty - Injury'),\n ('Excessive Force / On Duty - Injury', 'Search Of Premise Without Warrant'),\n ('Search Of Premise Without Warrant', 'Search Of Premise Without Warrant'),\n ('Search Of Premise Without Warrant', 'Illegal Arrest / False Arrest'),\n ('Illegal Arrest / False Arrest', 'Illegal Arrest / False Arrest'),\n ('Illegal Arrest / False Arrest', 'Gang Affiliation'),\n ('Gang Affiliation', 'Gang Affiliation'),\n ('Inadequate / Failure To Provide Service', 'Improper Search Of Person'),\n ('Improper Search Of Person', 'Improper Search Of Person'),\n ('Search Of Premise Without Warrant', 'Search Of Premise Without Warrant'),\n ('Search Of Premise Without Warrant', 'Search Of Premise Without Warrant'),\n ('Search Of Premise Without Warrant', 'Search Of Premise Without Warrant'),\n ('Damage / Trespassing To Property', 'Damage / Trespassing To Property'),\n ('Damage / Trespassing To Property',\n  'Inadequate / Failure To Provide Service'),\n ('Improper Processing / Reporting / Procedures',\n  'Inadequate / Failure To Provide Service'),\n ('Neglect Of Duty', 'Neglect Of Duty'),\n ('Excessive Force / On Duty - Injury', 'Excessive Force / On Duty - Injury'),\n ('Inventory Procedures', 'Inventory Procedures'),\n ('Inventory Procedures', 'Improper Search Of Person'),\n ('Improper Search Of Person', 'Improper Search Of Person'),\n ('Search Of Premise Without Warrant', 'Search Of Premise Without Warrant'),\n ('Reports', 'Excessive Force / On Duty - Injury'),\n ('Excessive Force / On Duty - Injury', 'Excessive Force / On Duty - Injury'),\n ('Excessive Force / On Duty - Injury', 'Excessive Force / On Duty - Injury'),\n ('Excessive Force / On Duty - Injury', 'Excessive Force / On Duty - Injury'),\n ('Excessive Force / On Duty - Injury',\n  'Inadequate / Failure To Provide Service'),\n ('Excessive Force / On Duty - Injury', 'Excessive Force / On Duty - Injury'),\n ('Excessive Force / On Duty - Injury', 'Excessive Force / On Duty - Injury'),\n ('Excessive Force / On Duty - Injury', 'Excessive Force / On Duty - Injury'),\n ('Excessive Force / On Duty - Injury', 'Improper Search Of Person'),\n ('Improper Search Of Person', 'Improper Search Of Person'),\n ('Improper Search Of Person', 'Association With Felon'),\n ('Association With Felon', 'Association With Felon'),\n ('Association With Felon', 'Racial / Ethnic, Etc.'),\n ('Racial / Ethnic, Etc.', 'Racial / Ethnic, Etc.'),\n ('Miscellaneous', 'Miscellaneous'),\n ('Excessive Force / On Duty - Injury', 'Excessive Force / On Duty - Injury'),\n ('Excessive Force / On Duty - Injury', 'Search Of Premise Without Warrant'),\n ('Search Of Premise Without Warrant', 'Search Of Premise Without Warrant'),\n ('Search Of Premise Without Warrant', 'Altercation / Disturbance - Neighbor'),\n ('Altercation / Disturbance - Neighbor',\n  'Altercation / Disturbance - Neighbor'),\n ('Altercation / Disturbance - Neighbor', 'Illegal Arrest / False Arrest'),\n ('Illegal Arrest / False Arrest', 'Illegal Arrest / False Arrest'),\n ('Illegal Arrest / False Arrest', 'Gang Affiliation'),\n ('Gang Affiliation', 'Gang Affiliation'),\n ('Inadequate / Failure To Provide Service',\n  'Unnecessary Physical Contact / Off Duty - No Injury'),\n ('Unnecessary Physical Contact / Off Duty - No Injury',\n  'Unnecessary Physical Contact / Off Duty - No Injury'),\n ('Unnecessary Physical Contact / Off Duty - No Injury',\n  'Racial / Ethnic, Etc.'),\n ('Racial / Ethnic, Etc.', 'Racial / Ethnic, Etc.'),\n ('Miscellaneous', 'Racial / Ethnic, Etc.'),\n ('Illegal Arrest / False Arrest', 'Illegal Arrest / False Arrest'),\n ('Illegal Arrest / False Arrest', 'Improper Search Of Person'),\n ('Improper Search Of Person', 'Improper Search Of Vehicle'),\n ('Improper Search Of Vehicle', 'Illegal Arrest / False Arrest'),\n ('Search Of Premise Without Warrant', 'Search Of Premise Without Warrant'),\n ('Domestic Incident - Not Physical', 'Domestic Incident - Not Physical'),\n ('Domestic Altercation - Physical Abuse',\n  'Domestic Altercation - Physical Abuse'),\n ('Inadequate / Failure To Provide Service',\n  'Inadequate / Failure To Provide Service'),\n ('Inadequate / Failure To Provide Service',\n  'Inadequate / Failure To Provide Service'),\n ('Inadequate / Failure To Provide Service', 'Reports'),\n ('Reports', 'Inadequate / Failure To Provide Service'),\n ('Insubordination', 'Excessive Force / Off Duty - Injury'),\n ('Excessive Force / Off Duty - Injury',\n  'Excessive Force / Off Duty - Injury'),\n ('Excessive Force / Off Duty - Injury',\n  'Excessive Force / Off Duty - Injury'),\n ('Excessive Force / Off Duty - Injury',\n  'Excessive Force / Off Duty - Injury'),\n ('Excessive Force / Off Duty - Injury',\n  'Excessive Force / Off Duty - Injury'),\n ('Excessive Force / Off Duty - Injury',\n  'Domestic Altercation - Physical Abuse'),\n ('Domestic Altercation - Physical Abuse',\n  'Domestic Altercation - Physical Abuse'),\n ('Domestic Altercation - Physical Abuse',\n  'Domestic Altercation - Physical Abuse'),\n ('Domestic Incident - Not Physical', 'Domestic Incident - Not Physical'),\n ('Telephone / Attorney / Relative Privileges',\n  'Telephone / Attorney / Relative Privileges'),\n ('Improper Processing / Reporting / Procedures',\n  'Inadequate / Failure To Provide Service'),\n ('Miscellaneous', 'Miscellaneous'),\n ('Fail To Obtain A Complaint Register Number',\n  'Fail To Obtain A Complaint Register Number'),\n ('Fail To Obtain A Complaint Register Number',\n  'Inadequate / Failure To Provide Service'),\n ('Inadequate / Failure To Provide Service', 'Miscellaneous'),\n ('Miscellaneous', 'Miscellaneous'),\n ('Miscellaneous', 'Excessive Force / On Duty - Injury'),\n ('Excessive Force / On Duty - Injury', 'Excessive Force / On Duty - Injury'),\n ('Fail To Enforce Traffic Regulations',\n  'Inadequate / Failure To Provide Service'),\n ('Inadequate / Failure To Provide Service',\n  'Inadequate / Failure To Provide Service'),\n ('Miscellaneous', 'Miscellaneous'),\n ('Unnecessary Display Of Weapon / Off Duty',\n  'Unnecessary Display Of Weapon / Off Duty'),\n ('Unnecessary Display Of Weapon / Off Duty',\n  'Misconduct During Issuance Of Citation'),\n ('Improper Search Of Vehicle', 'Inadequate / Failure To Provide Service'),\n ('Domestic Incident - Not Physical', 'Domestic Incident - Not Physical'),\n ('Inadequate / Failure To Provide Service',\n  'Inadequate / Failure To Provide Service'),\n ('Improper Search Of Vehicle', 'Excessive Force / On Duty - No Injury'),\n ('Excessive Force / On Duty - No Injury',\n  'Excessive Force / On Duty - No Injury'),\n ('Excessive Force / On Duty - No Injury', 'Illegal Arrest / False Arrest'),\n ('Illegal Arrest / False Arrest', 'Illegal Arrest / False Arrest'),\n ('Illegal Arrest / False Arrest', 'Excessive Force / On Duty - Injury'),\n ('Excessive Force / On Duty - Injury', 'Excessive Force / On Duty - Injury'),\n ('Inadequate / Failure To Provide Service',\n  'Inadequate / Failure To Provide Service'),\n ('Miscellaneous', 'Miscellaneous'),\n ('Miscellaneous', 'Inadequate / Failure To Provide Service'),\n ('Inadequate / Failure To Provide Service',\n  'Misuse Of Department Equipment / Supplies'),\n ('Misuse Of Department Equipment / Supplies',\n  'Excessive Force / On Duty - Injury'),\n ('Excessive Force / On Duty - Injury', 'Excessive Force / On Duty - Injury'),\n ('Excessive Force / On Duty - Injury', 'Prisoners Property'),\n ('Unnecessary Physical Contact / Off Duty - No Injury',\n  'Unnecessary Physical Contact / Off Duty - No Injury'),\n ('Unnecessary Physical Contact / Off Duty - No Injury',\n  'Improper Search Of Vehicle'),\n ('Unnecessary Physical Contact / Off Duty - No Injury',\n  'Unnecessary Physical Contact / Off Duty - No Injury'),\n ('Unnecessary Display Of Weapon / On Duty',\n  'Unnecessary Display Of Weapon / On Duty'),\n ('Unnecessary Display Of Weapon / On Duty',\n  'Unnecessary Display Of Weapon / On Duty'),\n ('Unnecessary Display Of Weapon / On Duty',\n  'Unnecessary Display Of Weapon / On Duty'),\n ('Unnecessary Display Of Weapon / On Duty',\n  'Unnecessary Display Of Weapon / On Duty'),\n ('Unnecessary Display Of Weapon / On Duty',\n  'Unnecessary Display Of Weapon / On Duty'),\n ('Unnecessary Display Of Weapon / On Duty',\n  'Unnecessary Display Of Weapon / On Duty'),\n ('Miscellaneous', 'Miscellaneous'),\n ('Inadequate / Failure To Provide Service', 'Sexual Orientation'),\n ('Sexual Orientation', 'Racial / Ethnic, Etc.'),\n ('Racial / Ethnic, Etc.', 'Racial / Ethnic, Etc.'),\n ('Racial / Ethnic, Etc.', 'Inadequate / Failure To Provide Service'),\n ('Inadequate / Failure To Provide Service',\n  'Inadequate / Failure To Provide Service'),\n ('Inadequate / Failure To Provide Service', 'Parking Complaints'),\n ('Excessive Force / On Duty - No Injury',\n  'Excessive Force / On Duty - No Injury'),\n ('Excessive Force / On Duty - No Injury',\n  'Excessive Force / On Duty - No Injury'),\n ('Excessive Force / On Duty - No Injury',\n  'Excessive Force / On Duty - No Injury'),\n ('Excessive Force / On Duty - No Injury',\n  'Inadequate / Failure To Provide Service'),\n ('Insubordination', 'Insubordination'),\n ('Insubordination', 'Improper Processing / Reporting / Procedures'),\n ('Improper Processing / Reporting / Procedures',\n  'Domestic Incident - Not Physical'),\n ('Domestic Incident - Not Physical', 'Domestic Incident - Not Physical'),\n ('Domestic Incident - Not Physical',\n  'Unnecessary Display Of Weapon / Off Duty'),\n ('Unnecessary Display Of Weapon / Off Duty',\n  'Unnecessary Display Of Weapon / Off Duty'),\n ('Unnecessary Display Of Weapon / Off Duty',\n  'Excessive Force / On Duty - Injury'),\n ('Excessive Force / On Duty - Injury', 'Excessive Force / On Duty - Injury'),\n ('Excessive Force / On Duty - Injury', 'Excessive Force / On Duty - Injury'),\n ('Excessive Force / On Duty - Injury', 'Excessive Force / On Duty - Injury'),\n ('Excessive Force / On Duty - Injury',\n  'Inadequate / Failure To Provide Service'),\n ('Unnecessary Physical Contact / On Duty - No Injury',\n  'Unnecessary Physical Contact / On Duty - No Injury'),\n ('Insubordination', 'Improper Search Of Person'),\n ('Prisoners Property', 'Prisoners Property'),\n ('Miscellaneous', 'Miscellaneous'),\n ('Miscellaneous', 'Excessive Force / On Duty - Injury'),\n ('Improper Search Of Vehicle', 'Improper Search Of Vehicle'),\n ('Improper Search Of Vehicle', 'Excessive Force / On Duty - Injury'),\n ('Excessive Force / On Duty - Injury', 'Excessive Force / On Duty - Injury'),\n ('Domestic Altercation - Physical Abuse',\n  'Domestic Altercation - Physical Abuse'),\n ('Domestic Altercation - Physical Abuse',\n  'Domestic Altercation - Physical Abuse'),\n ('Domestic Altercation - Physical Abuse',\n  'Domestic Altercation - Physical Abuse'),\n ('Domestic Altercation - Physical Abuse',\n  'Domestic Altercation - Physical Abuse'),\n ('Domestic Altercation - Physical Abuse',\n  'Domestic Altercation - Physical Abuse'),\n ('Domestic Altercation - Physical Abuse',\n  'Domestic Altercation - Physical Abuse'),\n ('Domestic Altercation - Physical Abuse',\n  'Domestic Altercation - Physical Abuse'),\n ('Domestic Altercation - Physical Abuse',\n  'Domestic Altercation - Physical Abuse'),\n ('Domestic Altercation - Physical Abuse',\n  'Domestic Altercation - Physical Abuse'),\n ('Domestic Altercation - Physical Abuse',\n  'Domestic Altercation - Physical Abuse'),\n ('Domestic Altercation - Physical Abuse',\n  'Domestic Altercation - Physical Abuse'),\n ('Domestic Altercation - Physical Abuse',\n  'Domestic Altercation - Physical Abuse'),\n ('Domestic Altercation - Physical Abuse',\n  'Domestic Altercation - Physical Abuse'),\n ('Domestic Altercation - Physical Abuse',\n  'Domestic Altercation - Physical Abuse'),\n ('Miscellaneous', 'Miscellaneous'),\n ('Miscellaneous', 'Miscellaneous'),\n ('Sexual Orientation', 'Sexual Orientation'),\n ('Sexual Orientation', 'Miscellaneous'),\n ('Search Of Premise Without Warrant', 'Altercation / Disturbance - Traffic'),\n ('Altercation / Disturbance - Traffic',\n  'Firearm Discharge With Hits - Handgun'),\n ('Firearm Discharge With Hits - Handgun',\n  'Firearm Discharge With Hits - Handgun'),\n ('Improper Search Of Person', 'Improper Search Of Person'),\n ('Search Of Premise Without Warrant',\n  'Inadequate / Failure To Provide Service'),\n ('Inadequate / Failure To Provide Service',\n  'Excessive Force / On Duty - Injury'),\n ('Excessive Force / On Duty - Injury', 'Excessive Force / On Duty - Injury'),\n ('Improper Search Of Vehicle', 'Improper Search Of Vehicle'),\n ('Improper Search Of Vehicle', 'Prisoners Property'),\n ('Prisoners Property', 'Prisoners Property'),\n ('Domestic Altercation - Physical Abuse',\n  'Domestic Altercation - Physical Abuse'),\n ('Insubordination', 'Insubordination'),\n ('Insubordination', 'Domestic Incident - Not Physical'),\n ('Domestic Incident - Not Physical', 'Domestic Incident - Not Physical'),\n ('Inventory Procedures', 'Inventory Procedures'),\n ('Excessive Force / On Duty - Injury', 'Excessive Force / On Duty - Injury'),\n ('Excessive Force / On Duty - Injury', 'Excessive Force / On Duty - Injury'),\n ('Excessive Force / On Duty - Injury', 'Excessive Force / On Duty - Injury'),\n ('Excessive Force / On Duty - Injury',\n  'Excessive Force / On Duty - No Injury'),\n ('Excessive Force / On Duty - No Injury',\n  'Excessive Force / On Duty - No Injury'),\n ('Illegal Arrest / False Arrest', 'Illegal Arrest / False Arrest'),\n ('Domestic Altercation - Physical Abuse',\n  'Domestic Altercation - Physical Abuse'),\n ('Domestic Altercation - Physical Abuse', 'Neglect Of Duty'),\n ('Neglect Of Duty', 'Neglect Of Duty'),\n ('Excessive Force / On Duty - Injury', 'Excessive Force / On Duty - Injury'),\n ('No Injury', 'No Injury'),\n ('No Injury', 'Domestic Incident - Not Physical'),\n ('Domestic Incident - Not Physical', 'Domestic Incident - Not Physical'),\n ('Miscellaneous', 'Sexual Orientation'),\n ('Sexual Orientation', 'Excessive Force / On Duty - No Injury'),\n ('Excessive Force / On Duty - No Injury',\n  'Excessive Force / On Duty - No Injury'),\n ('Excessive Force / On Duty - No Injury', 'Arrest, Improper Procedures'),\n ('Arrest, Improper Procedures', 'Arrest, Improper Procedures'),\n ('Domestic Altercation - Physical Abuse',\n  'Domestic Altercation - Physical Abuse'),\n ('Domestic Altercation - Physical Abuse', 'Proper Care - Injury / Death'),\n ('Proper Care - Injury / Death', 'Proper Care - Injury / Death'),\n ('Illegal Arrest / False Arrest', 'Illegal Arrest / False Arrest'),\n ('Search - Person / Property', 'Search - Person / Property'),\n ('Search - Person / Property', 'Search - Person / Property'),\n ('Search - Person / Property', 'Search - Person / Property'),\n ('Association With Felon', 'Association With Felon'),\n ('Damage / Trespassing To Property', 'Damage / Trespassing To Property'),\n ('Damage / Trespassing To Property', 'Eeo Investigations'),\n ('Eeo Investigations', 'Eeo Investigations'),\n ('Improper Processing / Reporting / Procedures',\n  'Improper Processing / Reporting / Procedures'),\n ('Excessive Force / On Duty - Injury', 'Excessive Force / On Duty - Injury'),\n ('Excessive Force / On Duty - Injury',\n  'Firearm Discharge With Hits - Handgun'),\n ('Firearm Discharge With Hits - Handgun',\n  'Firearm Discharge With Hits - Handgun'),\n ('Inadequate / Failure To Provide Service',\n  'Inadequate / Failure To Provide Service'),\n ('Inadequate / Failure To Provide Service',\n  'Inadequate / Failure To Provide Service'),\n ('Inadequate / Failure To Provide Service', 'Neglect Of Duty'),\n ('Neglect Of Duty', 'Neglect Of Duty'),\n ('Neglect Of Duty', 'Inadequate / Failure To Provide Service'),\n ('Judicial Process/Directive - Contempt',\n  'Inadequate / Failure To Provide Service'),\n ('Inadequate / Failure To Provide Service',\n  'Inadequate / Failure To Provide Service'),\n ('Neglect Of Duty', 'Miscellaneous'),\n ('Miscellaneous', 'Prisoners Property'),\n ('Racial / Ethnic, Etc.', 'Racial / Ethnic, Etc.'),\n ('Racial / Ethnic, Etc.', 'Inadequate / Failure To Provide Service'),\n ('Inadequate / Failure To Provide Service', 'Prisoners Property'),\n ('Insubordination', 'Insubordination'),\n ('Insubordination', 'Insubordination'),\n ('Insubordination', 'Insubordination'),\n ('Search Of Premise Without Warrant', 'Search Of Premise Without Warrant'),\n ('Improper Search Of Vehicle', 'Improper Search Of Vehicle'),\n ('Improper Search Of Vehicle', 'Search Of Premise Without Warrant'),\n ('Excessive Force / On Duty - Injury', 'Excessive Force / On Duty - Injury'),\n ('Excessive Force / On Duty - Injury',\n  'Unnecessary Display Of Weapon / On Duty'),\n ('Unnecessary Display Of Weapon / On Duty',\n  'Unnecessary Display Of Weapon / On Duty'),\n ('Unnecessary Display Of Weapon / On Duty',\n  'Unnecessary Display Of Weapon / On Duty'),\n ('Inadequate / Failure To Provide Service',\n  'Telephone / Attorney / Relative Privileges'),\n ('Sexual Orientation',\n  'Excessive Force - Use Of Firearm / On Duty - No Injury'),\n ('Excessive Force - Use Of Firearm / On Duty - No Injury',\n  'Excessive Force - Use Of Firearm / On Duty - No Injury'),\n ('Excessive Force - Use Of Firearm / On Duty - No Injury', 'Miscellaneous'),\n ('Miscellaneous', 'Excessive Force / On Duty - Injury'),\n ('Excessive Force / On Duty - Injury', 'Excessive Force / On Duty - Injury'),\n ('Excessive Force / On Duty - Injury',\n  'Conduct An Improper / Inadequate Investigation'),\n ('Conduct An Improper / Inadequate Investigation',\n  'Conduct An Improper / Inadequate Investigation'),\n ('Conduct An Improper / Inadequate Investigation',\n  'Conduct An Improper / Inadequate Investigation'),\n ('Conduct An Improper / Inadequate Investigation',\n  'Conduct An Improper / Inadequate Investigation'),\n ('Conduct An Improper / Inadequate Investigation',\n  'Firearm Discharge With Hits - Handgun'),\n ('Firearm Discharge With Hits - Handgun',\n  'Firearm Discharge With Hits - Handgun'),\n ('Firearm Discharge With Hits - Handgun',\n  'Inadequate / Failure To Provide Service'),\n ('Inadequate / Failure To Provide Service', 'Illegal Arrest / False Arrest'),\n ('Illegal Arrest / False Arrest', 'Illegal Arrest / False Arrest'),\n ('Illegal Arrest / False Arrest', 'Absent Without Permission'),\n ('Absent Without Permission', 'Inadequate / Failure To Provide Service'),\n ('Neglect Of Duty', 'Unnecessary Physical Contact / Off Duty - No Injury'),\n ('Unnecessary Physical Contact / Off Duty - No Injury',\n  'Unnecessary Physical Contact / Off Duty - No Injury'),\n ('Unnecessary Physical Contact / Off Duty - No Injury',\n  'Unnecessary Physical Contact / Off Duty - No Injury'),\n ('Unnecessary Physical Contact / Off Duty - No Injury',\n  'Unnecessary Physical Contact / Off Duty - No Injury'),\n ('Illegal Arrest / False Arrest', 'Illegal Arrest / False Arrest'),\n ('Altercation / Disturbance - Neighbor',\n  'Altercation / Disturbance - Neighbor'),\n ('Altercation / Disturbance - Neighbor',\n  'Misuse Of Department Equipment / Supplies'),\n ('Misuse Of Department Equipment / Supplies',\n  'Misuse Of Department Equipment / Supplies'),\n ('Misuse Of Department Equipment / Supplies',\n  'Misuse Of Department Equipment / Supplies'),\n ('Misuse Of Department Equipment / Supplies',\n  'Excessive Force / On Duty - Injury'),\n ('Excessive Force / On Duty - Injury', 'Excessive Force / On Duty - Injury'),\n ('Excessive Force / On Duty - Injury', 'Neglect Of Duty'),\n ('Neglect Of Duty', 'Neglect Of Duty'),\n ('Domestic Incident - Not Physical', 'Domestic Incident - Not Physical'),\n ('Domestic Incident - Not Physical',\n  'Excessive Force - Use Of Firearm / Off Duty - No Injury'),\n ('Excessive Force - Use Of Firearm / Off Duty - No Injury',\n  'Excessive Force - Use Of Firearm / Off Duty - No Injury'),\n ('Unnecessary Display Of Weapon / On Duty',\n  'Unnecessary Display Of Weapon / On Duty'),\n ('Unnecessary Display Of Weapon / On Duty',\n  'Unnecessary Display Of Weapon / On Duty'),\n ('Unnecessary Display Of Weapon / On Duty',\n  'Unnecessary Display Of Weapon / On Duty'),\n ('Prisoners Property', 'Prisoners Property'),\n ('Inadequate / Failure To Provide Service',\n  'Inadequate / Failure To Provide Service'),\n ('Miscellaneous', 'Miscellaneous'),\n ('Improper Search Of Vehicle', 'Improper Search Of Vehicle'),\n ('Inadequate / Failure To Provide Service',\n  'Inadequate / Failure To Provide Service'),\n ('Inadequate / Failure To Provide Service',\n  'Inadequate / Failure To Provide Service'),\n ('Neglect Of Duty', 'Neglect Of Duty'),\n ('Altercation / Disturbance - Neighbor',\n  'Altercation / Disturbance - Neighbor'),\n ('Eeo Investigations', 'Eeo Investigations'),\n ('Neglect Of Duty', 'Neglect Of Duty'),\n ('Neglect Of Duty', 'Domestic Incident - Not Physical'),\n ('Domestic Incident - Not Physical', 'Domestic Incident - Not Physical'),\n ('Domestic Incident - Not Physical', 'Domestic Incident - Not Physical'),\n ('Domestic Incident - Not Physical', 'Domestic Incident - Not Physical'),\n ('Domestic Incident - Not Physical', 'Excessive Force / On Duty - No Injury'),\n ('Excessive Force / On Duty - No Injury',\n  'Excessive Force / On Duty - No Injury'),\n ('Unnecessary Display Of Weapon / Off Duty',\n  'Unnecessary Display Of Weapon / Off Duty'),\n ('Inadequate / Failure To Provide Service',\n  'Inadequate / Failure To Provide Service'),\n ('Inadequate / Failure To Provide Service',\n  'Inadequate / Failure To Provide Service'),\n ('Inadequate / Failure To Provide Service',\n  'Inadequate / Failure To Provide Service'),\n ('Unnecessary Physical Contact / On Duty - No Injury',\n  'Unnecessary Physical Contact / On Duty - No Injury'),\n ('Unnecessary Physical Contact / On Duty - No Injury',\n  'Improper Search Of Vehicle'),\n ('Improper Search Of Vehicle', 'Improper Search Of Vehicle'),\n ('Search Of Premise Without Warrant', 'Search Of Premise Without Warrant'),\n ('Search Of Premise Without Warrant', 'Improper Search Of Person'),\n ('Inadequate / Failure To Provide Service',\n  'Inadequate / Failure To Provide Service'),\n ('Miscellaneous', 'Miscellaneous'),\n ('Miscellaneous', 'Miscellaneous'),\n ('Miscellaneous', 'Miscellaneous'),\n ('D.U.I. - Off Duty', 'D.U.I. - Off Duty'),\n ('Prisoners Property', 'Prisoners Property'),\n ('Inadequate / Failure To Provide Service',\n  'Inadequate / Failure To Provide Service'),\n ('Inadequate / Failure To Provide Service',\n  'Inadequate / Failure To Provide Service'),\n ('Inadequate / Failure To Provide Service',\n  'Excessive Force / On Duty - Injury'),\n ('Excessive Force / On Duty - Injury', 'Excessive Force / On Duty - Injury'),\n ('Improper Search Of Vehicle', 'Improper Search Of Vehicle'),\n ('Miscellaneous', 'Miscellaneous'),\n ('Inadequate / Failure To Provide Service',\n  'Inadequate / Failure To Provide Service'),\n ('Improper Search Of Vehicle', 'Improper Search Of Vehicle'),\n ('Improper Search Of Vehicle', 'Excessive Force / On Duty - Injury'),\n ('Excessive Force / On Duty - Injury', 'Excessive Force / On Duty - Injury'),\n ('Excessive Force / On Duty - Injury',\n  'Excessive Force - Use Of Firearm / Off Duty - No Injury'),\n ('Excessive Force - Use Of Firearm / Off Duty - No Injury',\n  'Excessive Force - Use Of Firearm / Off Duty - No Injury'),\n ('Excessive Force - Use Of Firearm / Off Duty - No Injury',\n  'Excessive Force - Use Of Firearm / Off Duty - No Injury'),\n ('Excessive Force - Use Of Firearm / Off Duty - No Injury',\n  'Excessive Force - Use Of Firearm / Off Duty - No Injury'),\n ('Excessive Force - Use Of Firearm / Off Duty - No Injury',\n  'Slow / No Response'),\n ('Slow / No Response', 'Inadequate / Failure To Provide Service'),\n ('Improper Search Of Vehicle', 'Improper Search Of Vehicle'),\n ('Illegal Arrest / False Arrest', 'Illegal Arrest / False Arrest'),\n ('Eeo Investigations', 'Eeo Investigations'),\n ('Eeo Investigations', 'Miscellaneous'),\n ('Miscellaneous', 'Miscellaneous'),\n ('Miscellaneous', 'Miscellaneous'),\n ('Miscellaneous', 'Miscellaneous'),\n ('Use Of Profanity', 'Use Of Profanity'),\n ('Illegal Arrest / False Arrest', 'Illegal Arrest / False Arrest'),\n ('Prisoners Property', 'Domestic Incident - Not Physical'),\n ('Altercation / Disturbance - Other', 'Altercation / Disturbance - Other'),\n ('Inadequate / Failure To Provide Service',\n  'Inadequate / Failure To Provide Service'),\n ('Excessive Force / On Duty - Injury', 'Excessive Force / On Duty - Injury'),\n ('Domestic Incident - Not Physical', 'Domestic Incident - Not Physical'),\n ('Search Of Premise Without Warrant',\n  'Firearm Discharge With Hits - Handgun'),\n ('Firearm Discharge With Hits - Handgun',\n  'Firearm Discharge With Hits - Handgun'),\n ('Firearm Discharge With Hits - Handgun', 'Illegal Arrest / False Arrest'),\n ('Excessive Force / On Duty - Injury', 'Excessive Force / On Duty - Injury'),\n ('Telephone / Attorney / Relative Privileges',\n  'Telephone / Attorney / Relative Privileges'),\n ('Inadequate / Failure To Provide Service',\n  'Inadequate / Failure To Provide Service'),\n ('Inadequate / Failure To Provide Service',\n  'Excessive Force / On Duty - Injury'),\n ('Excessive Force / On Duty - Injury', 'Excessive Force / On Duty - Injury'),\n ('Excessive Force / On Duty - Injury',\n  'Inadequate / Failure To Provide Service'),\n ('Inadequate / Failure To Provide Service',\n  'Inadequate / Failure To Provide Service'),\n ('Inadequate / Failure To Provide Service',\n  'Unnecessary Physical Contact / Off Duty - No Injury'),\n ('Unnecessary Physical Contact / Off Duty - No Injury',\n  'Unnecessary Physical Contact / Off Duty - No Injury'),\n ('Unnecessary Physical Contact / Off Duty - No Injury',\n  'Altercation / Disturbance - Neighbor'),\n ('Altercation / Disturbance - Neighbor',\n  'Altercation / Disturbance - Neighbor'),\n ('Illegal Arrest / False Arrest', 'Illegal Arrest / False Arrest'),\n ('Excessive Force / On Duty - Injury', 'Excessive Force / On Duty - Injury'),\n ('Excessive Force / On Duty - Injury', 'Excessive Force / On Duty - Injury'),\n ('Domestic Altercation - Physical Abuse',\n  'Domestic Altercation - Physical Abuse'),\n ('Domestic Altercation - Physical Abuse',\n  'Domestic Altercation - Physical Abuse'),\n ('Domestic Altercation - Physical Abuse',\n  'Domestic Altercation - Physical Abuse'),\n ('Domestic Altercation - Physical Abuse', 'Neglect Of Duty'),\n ('Illegal Arrest / False Arrest', 'Illegal Arrest / False Arrest'),\n ('Search Of Premise Without Warrant', 'Search Of Premise Without Warrant'),\n ('Search Of Premise Without Warrant', 'Search Of Premise Without Warrant'),\n ('Search Of Premise Without Warrant', 'Search Of Premise Without Warrant'),\n ('Illegal Arrest / False Arrest', 'Illegal Arrest / False Arrest'),\n ('Search Of Premise Without Warrant', 'Search Of Premise Without Warrant'),\n ('Search Of Premise Without Warrant', 'Search Of Premise Without Warrant'),\n ('Search Of Premise Without Warrant', 'Search Of Premise Without Warrant'),\n ('Illegal Arrest / False Arrest', 'Illegal Arrest / False Arrest'),\n ('Improper Search Of Vehicle', 'Improper Search Of Vehicle'),\n ('Firearm Discharge With Hits - Handgun',\n  'Firearm Discharge With Hits - Handgun'),\n ('Firearm Discharge With Hits - Handgun',\n  'Unnecessary Physical Contact / Off Duty - No Injury'),\n ('Unnecessary Physical Contact / Off Duty - No Injury',\n  'Unnecessary Physical Contact / Off Duty - No Injury'),\n ('Unnecessary Physical Contact / Off Duty - No Injury', 'Prisoners Property'),\n ('Excessive Force / Off Duty - No Injury',\n  'Excessive Force / Off Duty - No Injury'),\n ('Excessive Force / Off Duty - No Injury',\n  'Excessive Force / Off Duty - No Injury'),\n ('Excessive Force / Off Duty - No Injury',\n  'Excessive Force / Off Duty - No Injury'),\n ('Excessive Force / Off Duty - No Injury', 'Improper Search Of Vehicle'),\n ('Improper Search Of Vehicle', 'Improper Search Of Vehicle'),\n ('Improper Search Of Vehicle', 'Prisoners Property'),\n ('Firearm Discharge With Hits - Handgun',\n  'Firearm Discharge With Hits - Handgun'),\n ('Domestic Altercation - Physical Abuse',\n  'Domestic Altercation - Physical Abuse'),\n ('Fail To Obtain A Complaint Register Number',\n  'Fail To Obtain A Complaint Register Number'),\n ('Inadequate / Failure To Provide Service',\n  'Inadequate / Failure To Provide Service'),\n ('Domestic Altercation - Physical Abuse',\n  'Domestic Altercation - Physical Abuse'),\n ('Excessive Force / On Duty - Injury', 'Excessive Force / On Duty - Injury'),\n ('Excessive Force / On Duty - Injury', 'Miscellaneous'),\n ('Miscellaneous', 'Miscellaneous'),\n ('Neglect Of Duty', 'Neglect Of Duty'),\n ('Excessive Force / On Duty - Injury', 'Excessive Force / On Duty - Injury'),\n ('Inventory Procedures', 'Inventory Procedures'),\n ('Inventory Procedures',\n  'Unnecessary Physical Contact / Off Duty - No Injury'),\n ('Unnecessary Physical Contact / Off Duty - No Injury',\n  'Unnecessary Physical Contact / Off Duty - No Injury'),\n ('Domestic Altercation - Physical Abuse',\n  'Domestic Altercation - Physical Abuse'),\n ('Improper Search Of Person', 'Miscellaneous'),\n ('Inadequate / Failure To Provide Service', 'Neglect Of Duty'),\n ('Neglect Of Duty', 'Neglect Of Duty'),\n ('Misuse Of Department Equipment / Supplies',\n  'Misuse Of Department Equipment / Supplies'),\n ('Reports', 'Search Of Premise Without Warrant'),\n ('Excessive Force / On Duty - Injury',\n  'Domestic Altercation - Physical Abuse'),\n ('Domestic Altercation - Physical Abuse',\n  'Domestic Altercation - Physical Abuse'),\n ('Domestic Altercation - Physical Abuse', 'Improper Search Of Vehicle'),\n ('Improper Search Of Vehicle', 'Domestic Altercation - Physical Abuse'),\n ('Domestic Altercation - Physical Abuse',\n  'Domestic Altercation - Physical Abuse'),\n ('Domestic Altercation - Physical Abuse', 'Domestic Incident - Not Physical'),\n ('Domestic Incident - Not Physical', 'Domestic Incident - Not Physical'),\n ('Domestic Incident - Not Physical', 'Other Felony'),\n ('Other Felony', 'Neglect Of Duty'),\n ('Sexual Orientation', 'Sexual Orientation'),\n ('Illegal Arrest / False Arrest', 'Illegal Arrest / False Arrest'),\n ('Domestic Altercation - Physical Abuse',\n  'Domestic Altercation - Physical Abuse'),\n ('Inadequate / Failure To Provide Service',\n  'Inadequate / Failure To Provide Service'),\n ('Inadequate / Failure To Provide Service',\n  'Inadequate / Failure To Provide Service'),\n ('Inadequate / Failure To Provide Service',\n  'Inadequate / Failure To Provide Service'),\n ('Excessive Force / On Duty - Injury', 'Excessive Force / On Duty - Injury'),\n ('Excessive Force / On Duty - Injury', 'Improper Search Of Vehicle'),\n ('Improper Search Of Vehicle', 'Improper Search Of Vehicle'),\n ('Improper Processing / Reporting / Procedures', 'Reports'),\n ('Neglect Of Duty', 'Neglect Of Duty'),\n ('Miscellaneous', 'Miscellaneous'),\n ('Miscellaneous', 'Miscellaneous'),\n ('Miscellaneous', 'Miscellaneous'),\n ('Miscellaneous', 'Inadequate / Failure To Provide Service'),\n ('Inadequate / Failure To Provide Service',\n  'Inadequate / Failure To Provide Service'),\n ('Inadequate / Failure To Provide Service',\n  'Inadequate / Failure To Provide Service'),\n ('Inadequate / Failure To Provide Service', 'Eeo Investigations'),\n ('Eeo Investigations', 'Eeo Investigations'),\n ('Eeo Investigations', 'Inadequate / Failure To Provide Service'),\n ('Inadequate / Failure To Provide Service', 'Miscellaneous'),\n ('Inventory Procedures', 'Inadequate / Failure To Provide Service'),\n ('Inadequate / Failure To Provide Service',\n  'Inadequate / Failure To Provide Service'),\n ('Illegal Arrest / False Arrest', 'Illegal Arrest / False Arrest'),\n ('Illegal Arrest / False Arrest', 'Inadequate / Failure To Provide Service'),\n ('Inadequate / Failure To Provide Service', 'Racial / Ethnic, Etc.'),\n ('Racial / Ethnic, Etc.', 'Racial / Ethnic, Etc.'),\n ('Prisoners Property', 'Unnecessary Physical Contact / Off Duty - No Injury'),\n ('Unnecessary Physical Contact / Off Duty - No Injury',\n  'Unnecessary Physical Contact / Off Duty - No Injury'),\n ('Unnecessary Physical Contact / Off Duty - No Injury', 'Miscellaneous'),\n ('Excessive Force / On Duty - No Injury',\n  'Excessive Force / On Duty - No Injury'),\n ('Excessive Force / On Duty - No Injury',\n  'Inadequate / Failure To Provide Service'),\n ('Inadequate / Failure To Provide Service',\n  'Excessive Force / On Duty - Injury'),\n ('Excessive Force / On Duty - Injury', 'Excessive Force / On Duty - Injury'),\n ('Reports', 'Reports'),\n ('Reports', 'Excessive Force / On Duty - Injury'),\n ('Excessive Force / On Duty - Injury', 'Excessive Force / On Duty - Injury'),\n ('Intoxicated Off Duty', 'Intoxicated Off Duty'),\n ('Intoxicated Off Duty', 'Illegal Arrest / False Arrest'),\n ('Illegal Arrest / False Arrest', 'Illegal Arrest / False Arrest'),\n ('Miscellaneous', 'Miscellaneous'),\n ('Unnecessary Physical Contact / On Duty - No Injury',\n  'Unnecessary Physical Contact / On Duty - No Injury'),\n ('Inadequate / Failure To Provide Service',\n  'Inadequate / Failure To Provide Service'),\n ('Altercation / Disturbance - Other', 'Altercation / Disturbance - Other'),\n ('Altercation / Disturbance - Other', 'Altercation / Disturbance - Neighbor'),\n ('Altercation / Disturbance - Neighbor',\n  'Altercation / Disturbance - Neighbor'),\n ('Altercation / Disturbance - Neighbor',\n  'Altercation / Disturbance - Neighbor'),\n ('Altercation / Disturbance - Neighbor',\n  'Altercation / Disturbance - Neighbor'),\n ('Altercation / Disturbance - Neighbor',\n  'Altercation / Disturbance - Neighbor'),\n ('Altercation / Disturbance - Neighbor',\n  'Altercation / Disturbance - Neighbor'),\n ('Altercation / Disturbance - Neighbor', 'Damage / Trespassing To Property'),\n ('Damage / Trespassing To Property', 'Damage / Trespassing To Property'),\n ('Damage / Trespassing To Property', 'Miscellaneous'),\n ('Miscellaneous', 'Miscellaneous'),\n ('Conspiracy To Commit A Crime', 'Conspiracy To Commit A Crime'),\n ('Conspiracy To Commit A Crime', 'Excessive Force / On Duty - Injury'),\n ('Excessive Force / On Duty - Injury', 'Excessive Force / On Duty - Injury'),\n ('Excessive Force / On Duty - Injury', 'Eeo Investigations'),\n ('Eeo Investigations', 'Eeo Investigations'),\n ('Prisoners Property', 'Excessive Force / On Duty - Injury'),\n ('Excessive Force / On Duty - Injury', 'Excessive Force / On Duty - Injury'),\n ('Domestic Altercation - Physical Abuse',\n  'Domestic Altercation - Physical Abuse'),\n ('Inadequate / Failure To Provide Service',\n  'Inadequate / Failure To Provide Service'),\n ('Inadequate / Failure To Provide Service', 'Illegal Arrest / False Arrest'),\n ('Illegal Arrest / False Arrest', 'Miscellaneous'),\n ('Miscellaneous', 'Miscellaneous'),\n ('Miscellaneous', 'Inadequate / Failure To Provide Service'),\n ('Miscellaneous', 'Altercation / Disturbance - Other'),\n ('Altercation / Disturbance - Other', 'Altercation / Disturbance - Other'),\n ('Altercation / Disturbance - Other', 'Prisoners Property'),\n ('Illegal Arrest / False Arrest', 'Illegal Arrest / False Arrest'),\n ('Damage / Trespassing To Property', 'Damage / Trespassing To Property'),\n ('Damage / Trespassing To Property', 'Miscellaneous'),\n ('Inadequate / Failure To Provide Service',\n  'Excessive Force / On Duty - Injury'),\n ('Excessive Force / On Duty - Injury', 'Excessive Force / On Duty - Injury'),\n ('Domestic Altercation - Physical Abuse',\n  'Domestic Altercation - Physical Abuse'),\n ('Excessive Force / On Duty - Injury', 'Excessive Force / On Duty - Injury'),\n ('Misuse Of Department Equipment / Supplies',\n  'Misuse Of Department Equipment / Supplies'),\n ('Association With Felon', 'Association With Felon'),\n ('Association With Felon', 'Eeo Investigations'),\n ('Eeo Investigations', 'Eeo Investigations'),\n ('Excessive Force / Off Duty - No Injury',\n  'Excessive Force / Off Duty - No Injury'),\n ('Excessive Force / Off Duty - No Injury',\n  'Excessive Force / Off Duty - No Injury'),\n ('Excessive Force / Off Duty - No Injury',\n  'Excessive Force / Off Duty - No Injury'),\n ('Racial / Ethnic, Etc.', 'Racial / Ethnic, Etc.'),\n ('Racial / Ethnic, Etc.',\n  'Excessive Force - Use Of Firearm / On Duty - No Injury'),\n ('Excessive Force - Use Of Firearm / On Duty - No Injury',\n  'Excessive Force - Use Of Firearm / On Duty - No Injury'),\n ('Misconduct During Issuance Of Citation',\n  'Misconduct During Issuance Of Citation'),\n ('Miscellaneous', 'Miscellaneous'),\n ('Miscellaneous', 'Miscellaneous'),\n ('Miscellaneous', 'Miscellaneous'),\n ('Excessive Force / On Duty - Injury', 'Excessive Force / On Duty - Injury'),\n ('Excessive Force / On Duty - Injury',\n  'Inadequate / Failure To Provide Service'),\n ('Inadequate / Failure To Provide Service',\n  'Inadequate / Failure To Provide Service'),\n ('Altercation / Disturbance - Traffic',\n  'Altercation / Disturbance - Traffic'),\n ('Damage / Trespassing To Property', 'Damage / Trespassing To Property'),\n ('Neglect Of Duty', 'Neglect Of Duty'),\n ('Illegal Arrest / False Arrest', 'Illegal Arrest / False Arrest'),\n ('Racial / Ethnic, Etc.', 'Racial / Ethnic, Etc.'),\n ('Association With Felon', 'Association With Felon'),\n ('Association With Felon', 'Association With Felon'),\n ('Illegal Arrest / False Arrest', 'Illegal Arrest / False Arrest'),\n ('Weapon / Ammunition', 'Weapon / Ammunition'),\n ('Gang Affiliation', 'Gang Affiliation'),\n ('Excessive Force / On Duty - Injury', 'Excessive Force / On Duty - Injury'),\n ('Excessive Force / On Duty - Injury', 'Miscellaneous'),\n ('Miscellaneous', 'Miscellaneous'),\n ('Miscellaneous', 'Domestic Incident - Not Physical'),\n ('Domestic Incident - Not Physical', 'Domestic Incident - Not Physical'),\n ('Domestic Incident - Not Physical',\n  'Excessive Force / Off Duty - No Injury'),\n ('Excessive Force / Off Duty - No Injury',\n  'Excessive Force / Off Duty - No Injury'),\n ('Prisoners Property', 'Prisoners Property'),\n ('Prisoners Property', 'Illegal Arrest / False Arrest'),\n ('Illegal Arrest / False Arrest', 'Inadequate / Failure To Provide Service'),\n ('Inadequate / Failure To Provide Service', 'Improper Search Of Vehicle'),\n ('Improper Search Of Vehicle', 'Improper Search Of Vehicle'),\n ('Improper Search Of Person', 'Improper Search Of Person'),\n ('Conduct An Improper / Inadequate Investigation',\n  'Improper Search Of Vehicle'),\n ('Neglect Of Duty', 'Inadequate / Failure To Provide Service'),\n ('Inadequate / Failure To Provide Service',\n  'Inadequate / Failure To Provide Service'),\n ('Inadequate / Failure To Provide Service',\n  'Inadequate / Failure To Provide Service'),\n ('Search Of Premise Without Warrant', 'Search Of Premise Without Warrant'),\n ('Search Of Premise Without Warrant', 'Excessive Force / On Duty - Injury'),\n ('Excessive Force / On Duty - Injury', 'Excessive Force / On Duty - Injury'),\n ('Illegal Arrest / False Arrest', 'Illegal Arrest / False Arrest'),\n ('Unnecessary Display Of Weapon / Off Duty',\n  'Unnecessary Display Of Weapon / Off Duty'),\n ('Domestic Incident - Not Physical', 'Domestic Incident - Not Physical'),\n ('Domestic Incident - Not Physical', 'Prisoners Property'),\n ('Prisoners Property', 'Firearm Used As An Impact Weapon'),\n ('Firearm Used As An Impact Weapon', 'Firearm Used As An Impact Weapon'),\n ('Neglect Of Duty', 'Neglect Of Duty'),\n ('Neglect Of Duty', 'Neglect Of Duty'),\n ('Neglect Of Duty', 'Neglect Of Duty'),\n ('Prisoners Property', 'Prisoners Property'),\n ('Neglect Of Duty', 'Neglect Of Duty'),\n ('Inadequate / Failure To Provide Service',\n  'Inadequate / Failure To Provide Service'),\n ('Inadequate / Failure To Provide Service', 'Inventory Procedures'),\n ('Inventory Procedures', 'Inventory Procedures'),\n ('Domestic Incident - Not Physical', 'Domestic Incident - Not Physical'),\n ('Search Of Premise Without Warrant', 'Search Of Premise Without Warrant'),\n ('Prisoners Property', 'Excessive Force / On Duty - Injury'),\n ('Excessive Force / On Duty - Injury', 'Excessive Force / On Duty - Injury'),\n ('Unnecessary Display Of Weapon / Off Duty',\n  'Unnecessary Display Of Weapon / Off Duty'),\n ('Unnecessary Display Of Weapon / Off Duty',\n  'Misconduct During Issuance Of Citation'),\n ('Misconduct During Issuance Of Citation',\n  'Misconduct During Issuance Of Citation'),\n ('Misconduct During Issuance Of Citation', 'Miscellaneous'),\n ('Eeo Investigations', 'Eeo Investigations'),\n ('Eeo Investigations', 'Improper Search Of Vehicle'),\n ('Excessive Force / On Duty - Injury',\n  'Inadequate / Failure To Provide Service'),\n ('Inadequate / Failure To Provide Service',\n  'Inadequate / Failure To Provide Service'),\n ('Inadequate / Failure To Provide Service', 'Improper Search Of Vehicle'),\n ('Miscellaneous', 'Excessive Force - Use Of Firearm / Off Duty - Injury'),\n ('Excessive Force - Use Of Firearm / Off Duty - Injury',\n  'Excessive Force - Use Of Firearm / Off Duty - Injury'),\n ('Excessive Force / On Duty - Injury', 'Excessive Force / On Duty - Injury'),\n ('Excessive Force / On Duty - Injury', 'Excessive Force / On Duty - Injury'),\n ('Excessive Force / On Duty - Injury', 'Miscellaneous'),\n ('Miscellaneous', 'Miscellaneous'),\n ('Miscellaneous', 'Miscellaneous'),\n ('Miscellaneous', 'Miscellaneous'),\n ('Miscellaneous', 'Improper Search Of Person'),\n ('Improper Search Of Person', 'Improper Search Of Person'),\n ('Improper Search Of Person', 'Unnecessary Display Of Weapon / Off Duty'),\n ('Unnecessary Display Of Weapon / Off Duty',\n  'Unnecessary Display Of Weapon / Off Duty'),\n ('Illegal Arrest / False Arrest', 'Illegal Arrest / False Arrest'),\n ('Unnecessary Display Of Weapon / Off Duty',\n  'Unnecessary Display Of Weapon / Off Duty'),\n ('Unnecessary Display Of Weapon / Off Duty', 'Miscellaneous'),\n ('Miscellaneous', 'Miscellaneous'),\n ('Search Of Premise Without Warrant', 'Search Of Premise Without Warrant'),\n ('Excessive Force / On Duty - Injury', 'Excessive Force / On Duty - Injury'),\n ('Excessive Force / On Duty - Injury', 'Excessive Force / On Duty - Injury'),\n ('Excessive Force / On Duty - Injury', 'Excessive Force / On Duty - Injury'),\n ('Inadequate / Failure To Provide Service', 'Proper Care - Injury / Death'),\n ('Proper Care - Injury / Death', 'Proper Care - Injury / Death'),\n ('Prisoners Property', 'Prisoners Property'),\n ('Prisoners Property', 'Prisoners Property'),\n ('Prisoners Property', 'Domestic Incident - Not Physical'),\n ('Domestic Incident - Not Physical', 'Domestic Incident - Not Physical'),\n ('Firearm Discharge With Hits - Handgun',\n  'Firearm Discharge With Hits - Handgun'),\n ('Eeo Investigations', 'Eeo Investigations'),\n ('Eeo Investigations', 'Domestic Incident - Not Physical'),\n ('Domestic Incident - Not Physical', 'Domestic Incident - Not Physical'),\n ('Domestic Incident - Not Physical',\n  'Inadequate / Failure To Provide Service'),\n ('Excessive Force / On Duty - Injury', 'Excessive Force / On Duty - Injury'),\n ('Excessive Force / On Duty - Injury', 'Improper Search Of Vehicle'),\n ('Improper Search Of Vehicle', 'Improper Search Of Vehicle'),\n ('Improper Search Of Vehicle', 'Illegal Arrest / False Arrest'),\n ('Inadequate / Failure To Provide Service',\n  'Inadequate / Failure To Provide Service'),\n ('Inadequate / Failure To Provide Service',\n  'Inadequate / Failure To Provide Service'),\n ('Improper Search Of Vehicle', 'Improper Search Of Vehicle'),\n ('Improper Search Of Vehicle', 'Racial / Ethnic, Etc.'),\n ('Racial / Ethnic, Etc.', 'Racial / Ethnic, Etc.'),\n ('Inadequate / Failure To Provide Service',\n  'Inadequate / Failure To Provide Service'),\n ('Excessive Force / On Duty - Injury', 'Excessive Force / On Duty - Injury'),\n ('Excessive Force / On Duty - Injury', 'Excessive Force / On Duty - Injury'),\n ('Excessive Force / On Duty - Injury', 'Excessive Force / On Duty - Injury'),\n ('Excessive Force / On Duty - Injury', 'Miscellaneous'),\n ('Miscellaneous', 'Search Of Premise Without Warrant'),\n ('Search Of Premise Without Warrant', 'Search Of Premise Without Warrant'),\n ('Search Of Premise Without Warrant', 'Domestic Incident - Not Physical'),\n ('Domestic Incident - Not Physical', 'Domestic Incident - Not Physical'),\n ('Domestic Incident - Not Physical',\n  'Unnecessary Physical Contact / Off Duty - No Injury'),\n ('Unnecessary Physical Contact / Off Duty - No Injury',\n  'Unnecessary Physical Contact / Off Duty - No Injury'),\n ('Unnecessary Physical Contact / Off Duty - No Injury', 'Sexual Orientation'),\n ('Illegal Arrest / False Arrest', 'Illegal Arrest / False Arrest'),\n ('Neglect Of Duty', 'Neglect Of Duty'),\n ('Neglect Of Duty', 'Inadequate / Failure To Provide Service'),\n ('Inadequate / Failure To Provide Service',\n  'Inadequate / Failure To Provide Service'),\n ('Excessive Force / On Duty - No Injury',\n  'Excessive Force / On Duty - No Injury'),\n ('Excessive Force / On Duty - No Injury', 'Verbal Abuse'),\n ('Verbal Abuse', 'Verbal Abuse'),\n ('Verbal Abuse', 'Domestic Altercation - Physical Abuse'),\n ('Domestic Altercation - Physical Abuse',\n  'Domestic Altercation - Physical Abuse'),\n ('Domestic Altercation - Physical Abuse', 'Reports'),\n ('Reports', 'Reports'),\n ('Reports', 'Domestic Incident - Not Physical'),\n ('Domestic Incident - Not Physical', 'Domestic Incident - Not Physical'),\n ('Domestic Incident - Not Physical', 'Domestic Incident - Not Physical'),\n ('Excessive Force - Use Of Firearm / On Duty - No Injury',\n  'Excessive Force - Use Of Firearm / On Duty - No Injury'),\n ('Search Of Premise Without Warrant', 'Miscellaneous'),\n ('Inadequate / Failure To Provide Service', 'Reports'),\n ('Reports', 'Neglect Of Duty'),\n ('Miscellaneous', 'Improper Search Of Person'),\n ('Improper Search Of Person', 'Improper Search Of Person'),\n ('Excessive Force / On Duty - No Injury',\n  'Excessive Force / On Duty - No Injury'),\n ('Excessive Force / On Duty - No Injury',\n  'Fail To Obtain A Complaint Register Number'),\n ('Fail To Obtain A Complaint Register Number',\n  'Fail To Obtain A Complaint Register Number'),\n ('Fail To Obtain A Complaint Register Number',\n  'Fail To Obtain A Complaint Register Number'),\n ('Fail To Obtain A Complaint Register Number',\n  'Fail To Obtain A Complaint Register Number'),\n ('Misuse Of Department Records', 'Misuse Of Department Records'),\n ('Association With Felon', 'Eeo Investigations'),\n ('Eeo Investigations', 'Eeo Investigations'),\n ('Eeo Investigations', 'Miscellaneous'),\n ('Miscellaneous', 'Miscellaneous'),\n ('Miscellaneous', 'Intoxicated On Duty'),\n ('Excessive Force / On Duty - Injury', 'Excessive Force / On Duty - Injury'),\n ('Inadequate / Failure To Provide Service',\n  'Inadequate / Failure To Provide Service'),\n ('Inadequate / Failure To Provide Service', 'Improper Search Of Person'),\n ('Improper Search Of Person', 'Improper Search Of Person'),\n ('Improper Search Of Person', 'Neglect Of Duty'),\n ('Neglect Of Duty', 'Inadequate / Failure To Provide Service'),\n ('Excessive Force / On Duty - Injury', 'Excessive Force / On Duty - Injury'),\n ('Excessive Force / Off Duty - Injury',\n  'Excessive Force / Off Duty - Injury'),\n ('Excessive Force / Off Duty - Injury', 'Neglect Of Duty'),\n ('Neglect Of Duty', 'Neglect Of Duty'),\n ('Miscellaneous', 'Miscellaneous'),\n ('Miscellaneous', 'Misuse Of Department Records'),\n ('Miscellaneous', 'Miscellaneous'),\n ('Telephone / Attorney / Relative Privileges',\n  'Telephone / Attorney / Relative Privileges'),\n ('Telephone / Attorney / Relative Privileges', 'Miscellaneous'),\n ('Miscellaneous', 'Miscellaneous'),\n ('Excessive Force - Use Of Firearm / Off Duty - No Injury',\n  'Excessive Force - Use Of Firearm / Off Duty - No Injury'),\n ('Inadequate / Failure To Provide Service',\n  'Inadequate / Failure To Provide Service'),\n ('Inadequate / Failure To Provide Service', 'Reports'),\n ('Reports', 'Prisoners Property'),\n ('Proper Care - Injury / Death', 'Proper Care - Injury / Death'),\n ('Inadequate / Failure To Provide Service',\n  'Inadequate / Failure To Provide Service'),\n ('Inadequate / Failure To Provide Service',\n  'Inadequate / Failure To Provide Service'),\n ('Miscellaneous', 'Miscellaneous'),\n ('Inadequate / Failure To Provide Service', 'Neglect Of Duty'),\n ('Neglect Of Duty', 'Neglect Of Duty'),\n ('Neglect Of Duty', 'Domestic Altercation - Physical Abuse'),\n ('Domestic Altercation - Physical Abuse',\n  'Domestic Altercation - Physical Abuse'),\n ('Search Of Premise Without Warrant', 'Improper Search Of Vehicle'),\n ('Improper Search Of Vehicle', 'Neglect Of Duty'),\n ('Neglect Of Duty', 'Neglect Of Duty'),\n ('Altercation / Disturbance - Other', 'Altercation / Disturbance - Other'),\n ('Altercation / Disturbance - Other',\n  'Excessive Force - Use Of Firearm / Off Duty - No Injury'),\n ('Excessive Force - Use Of Firearm / Off Duty - No Injury',\n  'Excessive Force - Use Of Firearm / Off Duty - No Injury'),\n ('Excessive Force - Use Of Firearm / Off Duty - No Injury',\n  'Excessive Force - Use Of Firearm / Off Duty - No Injury'),\n ('Excessive Force - Use Of Firearm / Off Duty - No Injury',\n  'Excessive Force - Use Of Firearm / Off Duty - No Injury'),\n ('Excessive Force - Use Of Firearm / Off Duty - No Injury',\n  'Search Of Premise Without Warrant'),\n ('Search Of Premise Without Warrant', 'Search Of Premise Without Warrant'),\n ('Search Of Premise Without Warrant', 'Improper Search Of Vehicle'),\n ('Improper Search Of Vehicle', 'Miscellaneous'),\n ('Miscellaneous', 'Search Of Premise Without Warrant'),\n ('Search Of Premise Without Warrant', 'Domestic Incident - Not Physical'),\n ('Domestic Incident - Not Physical', 'Domestic Incident - Not Physical'),\n ('Domestic Incident - Not Physical', 'Excessive Force / On Duty - No Injury'),\n ('Excessive Force / On Duty - No Injury',\n  'Excessive Force / On Duty - No Injury'),\n ('Excessive Force / On Duty - No Injury', 'Improper Search Of Person'),\n ('Improper Search Of Person', 'Improper Search Of Person'),\n ('Improper Search Of Person', 'Improper Search Of Person'),\n ('Improper Search Of Person', 'Excessive Force / On Duty - No Injury'),\n ('Excessive Force / On Duty - No Injury',\n  'Excessive Force / On Duty - No Injury'),\n ('Excessive Force / On Duty - No Injury', 'Neglect Of Duty'),\n ('Neglect Of Duty', 'Neglect Of Duty'),\n ('Neglect Of Duty', 'Improper Search Of Vehicle'),\n ('Improper Search Of Vehicle', 'Improper Search Of Vehicle'),\n ('Improper Search Of Vehicle', 'Illegal Arrest / False Arrest'),\n ('Illegal Arrest / False Arrest', 'Illegal Arrest / False Arrest'),\n ('Illegal Arrest / False Arrest', 'Domestic Incident - Not Physical'),\n ('Domestic Incident - Not Physical', 'Domestic Incident - Not Physical'),\n ('Domestic Incident - Not Physical', 'Excessive Force / On Duty - Injury'),\n ('Excessive Force / On Duty - Injury', 'Excessive Force / On Duty - Injury'),\n ('Excessive Force / On Duty - Injury',\n  'Excessive Force - Use Of Firearm / Off Duty - No Injury'),\n ('Excessive Force - Use Of Firearm / Off Duty - No Injury',\n  'Excessive Force - Use Of Firearm / Off Duty - No Injury'),\n ('Excessive Force - Use Of Firearm / Off Duty - No Injury',\n  'Excessive Force - Use Of Firearm / Off Duty - No Injury'),\n ('Excessive Force - Use Of Firearm / Off Duty - No Injury',\n  'Excessive Force - Use Of Firearm / Off Duty - No Injury'),\n ('Excessive Force - Use Of Firearm / Off Duty - No Injury',\n  'Domestic Incident - Not Physical'),\n ('Domestic Incident - Not Physical', 'Domestic Incident - Not Physical'),\n ('Improper Processing / Reporting / Procedures', 'Prisoners Property'),\n ('Prisoners Property', 'Indebtedness To City'),\n ('Indebtedness To City', 'Insubordination'),\n ('Unnecessary Physical Contact / On Duty - No Injury',\n  'Unnecessary Physical Contact / On Duty - No Injury'),\n ('Domestic Altercation - Physical Abuse',\n  'Domestic Altercation - Physical Abuse'),\n ('Inadequate / Failure To Provide Service',\n  'Inadequate / Failure To Provide Service'),\n ('Inadequate / Failure To Provide Service', 'Improper Search Of Vehicle'),\n ('Improper Search Of Vehicle', 'Improper Search Of Vehicle'),\n ('Prisoners Property', 'Improper Search Of Vehicle'),\n ('Improper Search Of Vehicle', 'Improper Search Of Vehicle'),\n ('Improper Search Of Person', 'Domestic Altercation - Physical Abuse'),\n ('Domestic Altercation - Physical Abuse',\n  'Domestic Altercation - Physical Abuse'),\n ('Domestic Altercation - Physical Abuse', 'Improper Search Of Vehicle'),\n ('Improper Search Of Vehicle', 'Improper Search Of Vehicle'),\n ('Improper Search Of Vehicle', 'Neglect Of Duty'),\n ('Neglect Of Duty', 'Domestic Incident - Not Physical'),\n ('Domestic Incident - Not Physical', 'Domestic Incident - Not Physical'),\n ('Domestic Incident - Not Physical', 'Domestic Incident - Not Physical'),\n ('Excessive Force / On Duty - Injury', 'Excessive Force / On Duty - Injury'),\n ('Excessive Force / On Duty - Injury',\n  'Inadequate / Failure To Provide Service'),\n ('Domestic Incident - Not Physical', 'Domestic Altercation - Physical Abuse'),\n ('Domestic Altercation - Physical Abuse',\n  'Domestic Altercation - Physical Abuse'),\n ('Domestic Altercation - Physical Abuse',\n  'Excessive Force - Use Of Firearm / On Duty - No Injury'),\n ('Excessive Force - Use Of Firearm / On Duty - No Injury',\n  'Excessive Force - Use Of Firearm / On Duty - No Injury'),\n ('Excessive Force - Use Of Firearm / On Duty - No Injury',\n  'Excessive Force - Use Of Firearm / On Duty - No Injury'),\n ('Excessive Force - Use Of Firearm / On Duty - No Injury',\n  'Excessive Force - Use Of Firearm / On Duty - No Injury'),\n ('Excessive Force - Use Of Firearm / On Duty - No Injury',\n  'Excessive Force - Use Of Firearm / On Duty - No Injury'),\n ('Excessive Force - Use Of Firearm / On Duty - No Injury',\n  'Excessive Force - Use Of Firearm / On Duty - No Injury'),\n ('Excessive Force / On Duty - Injury', 'Excessive Force / On Duty - Injury'),\n ('Excessive Force / On Duty - Injury', 'Miscellaneous'),\n ('Miscellaneous', 'Miscellaneous'),\n ('Miscellaneous', 'Search Of Premise Without Warrant'),\n ('Altercation / Disturbance - Traffic',\n  'Altercation / Disturbance - Traffic'),\n ('Altercation / Disturbance - Traffic', 'Excessive Force / On Duty - Injury'),\n ('Excessive Force / On Duty - Injury', 'Excessive Force / On Duty - Injury'),\n ('Neglect Of Duty', 'Excessive Force / On Duty - No Injury'),\n ('Excessive Force / On Duty - No Injury',\n  'Excessive Force / On Duty - No Injury'),\n ('Inadequate / Failure To Provide Service',\n  'Inadequate / Failure To Provide Service'),\n ('Inadequate / Failure To Provide Service',\n  'Inadequate / Failure To Provide Service'),\n ('Illegal Arrest / False Arrest', 'Prisoners Property'),\n ('Unnecessary Display Of Weapon / On Duty',\n  'Unnecessary Display Of Weapon / On Duty'),\n ('Unnecessary Display Of Weapon / On Duty',\n  'Unnecessary Display Of Weapon / On Duty'),\n ('Unnecessary Display Of Weapon / On Duty',\n  'Unnecessary Display Of Weapon / On Duty'),\n ('Excessive Force / Off Duty - Injury',\n  'Excessive Force / Off Duty - Injury'),\n ('Search Of Premise Without Warrant', 'Search Of Premise Without Warrant'),\n ('Search Of Premise Without Warrant', 'Search Of Premise Without Warrant'),\n ('Search Of Premise Without Warrant', 'Search Of Premise Without Warrant'),\n ('Search Of Premise Without Warrant', 'Search Of Premise Without Warrant'),\n ('Search Of Premise Without Warrant', 'Search Of Premise Without Warrant'),\n ('Association With Felon', 'Association With Felon'),\n ('Illegal Arrest / False Arrest', 'Illegal Arrest / False Arrest'),\n ('Search Of Premise Without Warrant', 'Search Of Premise Without Warrant'),\n ('Search Of Premise Without Warrant',\n  'Inadequate / Failure To Provide Service'),\n ('Inadequate / Failure To Provide Service',\n  'Inadequate / Failure To Provide Service'),\n ('Domestic Incident - Not Physical', 'Domestic Incident - Not Physical'),\n ('Domestic Incident - Not Physical', 'Altercation / Disturbance - Other'),\n ('Altercation / Disturbance - Other',\n  'Unnecessary Physical Contact / On Duty - No Injury'),\n ('Unnecessary Physical Contact / On Duty - No Injury',\n  'Unnecessary Physical Contact / On Duty - No Injury'),\n ('Inventory Procedures', 'Inventory Procedures'),\n ('Inventory Procedures', 'Prisoners Property'),\n ('Neglect Of Duty', 'Neglect Of Duty'),\n ('Eeo Investigations', 'Eeo Investigations'),\n ('Excessive Force / On Duty - No Injury',\n  'Excessive Force / On Duty - No Injury'),\n ('Excessive Force / On Duty - No Injury',\n  'Inadequate / Failure To Provide Service'),\n ('Inadequate / Failure To Provide Service',\n  'Domestic Incident - Not Physical'),\n ('Domestic Incident - Not Physical', 'Domestic Incident - Not Physical'),\n ('Miscellaneous', 'Illegal Arrest / False Arrest'),\n ('Unnecessary Physical Contact / On Duty - No Injury',\n  'Unnecessary Physical Contact / On Duty - No Injury'),\n ('Unnecessary Physical Contact / On Duty - No Injury',\n  'Unnecessary Physical Contact / On Duty - No Injury'),\n ('Improper Search Of Vehicle', 'Improper Search Of Vehicle'),\n ('Excessive Force / Off Duty - Injury',\n  'Excessive Force / Off Duty - Injury'),\n ('Search Of Premise Without Warrant', 'Search Of Premise Without Warrant'),\n ('Search Of Premise Without Warrant', 'Search Of Premise Without Warrant'),\n ('Search Of Premise Without Warrant', 'Search Of Premise Without Warrant'),\n ('Search Of Premise Without Warrant', 'Search Of Premise Without Warrant'),\n ('Search Of Premise Without Warrant', 'Search Of Premise Without Warrant'),\n ('Search Of Premise Without Warrant',\n  'Inadequate / Failure To Provide Service'),\n ('Excessive Force / On Duty - Injury', 'Excessive Force / On Duty - Injury'),\n ('Improper Search Of Person', 'Improper Search Of Person'),\n ('Improper Search Of Person', 'Improper Search Of Person'),\n ('Telephone / Attorney / Relative Privileges',\n  'Telephone / Attorney / Relative Privileges'),\n ('Inadequate / Failure To Provide Service',\n  'Inadequate / Failure To Provide Service'),\n ('Inadequate / Failure To Provide Service',\n  'Excessive Force - Use Of Firearm / On Duty - No Injury'),\n ('Excessive Force - Use Of Firearm / On Duty - No Injury',\n  'Excessive Force - Use Of Firearm / On Duty - No Injury'),\n ('Excessive Force - Use Of Firearm / On Duty - No Injury',\n  'Excessive Force - Use Of Firearm / On Duty - No Injury'),\n ('Excessive Force - Use Of Firearm / On Duty - No Injury',\n  'Excessive Force - Use Of Firearm / On Duty - No Injury'),\n ('Miscellaneous', 'Miscellaneous'),\n ('Altercation / Disturbance - Other', 'Altercation / Disturbance - Other'),\n ('Conspiracy To Commit A Crime', 'Conspiracy To Commit A Crime'),\n ('Improper Search Of Vehicle', 'Excessive Force / On Duty - No Injury'),\n ('Excessive Force / On Duty - No Injury',\n  'Excessive Force / On Duty - No Injury'),\n ('Miscellaneous', 'Miscellaneous'),\n ('Improper Search Of Vehicle', 'Improper Search Of Vehicle'),\n ('Improper Search Of Vehicle', 'Excessive Force / On Duty - Injury'),\n ('Excessive Force / On Duty - Injury', 'Excessive Force / On Duty - Injury'),\n ('Excessive Force / On Duty - Injury', 'Excessive Force / On Duty - Injury'),\n ('Push/Pull/Grab', 'Push/Pull/Grab'),\n ('Neglect Of Duty', 'Neglect Of Duty'),\n ('Neglect Of Duty', 'Domestic Incident - Not Physical'),\n ('Domestic Incident - Not Physical', 'Domestic Incident - Not Physical'),\n ('Domestic Incident - Not Physical', 'Racial / Ethnic, Etc.'),\n ('Racial / Ethnic, Etc.', 'Racial / Ethnic, Etc.'),\n ('Racial / Ethnic, Etc.', 'Racial / Ethnic, Etc.'),\n ('Racial / Ethnic, Etc.', 'Racial / Ethnic, Etc.'),\n ('Improper Search Of Vehicle', 'Improper Search Of Vehicle'),\n ('Improper Search Of Vehicle', 'Inadequate / Failure To Provide Service'),\n ('Inadequate / Failure To Provide Service',\n  'Inadequate / Failure To Provide Service'),\n ('Association With Felon', 'Association With Felon'),\n ('Altercation / Disturbance - Traffic',\n  'Altercation / Disturbance - Traffic'),\n ('Altercation / Disturbance - Traffic',\n  'Altercation / Disturbance - Traffic'),\n ('Altercation / Disturbance - Traffic', 'Improper Search Of Vehicle'),\n ('Improper Search Of Vehicle',\n  'U Converted To C.R. (Records Keeping Only, Initial)'),\n ('U Converted To C.R. (Records Keeping Only, Initial)',\n  'U Converted To C.R. (Records Keeping Only, Initial)'),\n ...]"
     },
     "metadata": {},
     "output_type": "execute_result",
     "execution_count": 33
    }
   ],
   "source": [
    "edges"
   ]
  },
  {
   "cell_type": "code",
   "execution_count": 34,
   "metadata": {
    "pycharm": {
     "is_executing": false
    }
   },
   "outputs": [
    {
     "data": {
      "text/plain": "(7892, 947)"
     },
     "metadata": {},
     "output_type": "execute_result",
     "execution_count": 34
    }
   ],
   "source": [
    "len(edges), len(set(edges))"
   ]
  },
  {
   "cell_type": "code",
   "execution_count": 35,
   "metadata": {
    "pycharm": {
     "is_executing": false
    }
   },
   "outputs": [],
   "source": [
    "edge_counts = collections.Counter(edges)"
   ]
  },
  {
   "cell_type": "code",
   "execution_count": 36,
   "metadata": {
    "pycharm": {
     "is_executing": false
    }
   },
   "outputs": [
    {
     "data": {
      "text/plain": "947"
     },
     "metadata": {},
     "output_type": "execute_result",
     "execution_count": 36
    }
   ],
   "source": [
    "len(edge_counts)"
   ]
  },
  {
   "cell_type": "code",
   "execution_count": 37,
   "metadata": {
    "pycharm": {
     "is_executing": false
    }
   },
   "outputs": [],
   "source": [
    "df_edges = pd.DataFrame.from_dict(edge_counts, columns=['Edge Frequency'], orient='index')"
   ]
  },
  {
   "cell_type": "code",
   "execution_count": 38,
   "metadata": {
    "pycharm": {
     "is_executing": false
    }
   },
   "outputs": [
    {
     "data": {
      "text/plain": "                                                    Edge Frequency\n(Unnecessary Display Of Weapon / On Duty, Unnec...              70\n(Unnecessary Display Of Weapon / On Duty, Domes...               1\n(Domestic Altercation - Physical Abuse, Domesti...             350\n(Domestic Incident - Not Physical, Domestic Inc...             255\n(Inadequate / Failure To Provide Service, Inade...             524",
      "text/html": "<div>\n<style scoped>\n    .dataframe tbody tr th:only-of-type {\n        vertical-align: middle;\n    }\n\n    .dataframe tbody tr th {\n        vertical-align: top;\n    }\n\n    .dataframe thead th {\n        text-align: right;\n    }\n</style>\n<table border=\"1\" class=\"dataframe\">\n  <thead>\n    <tr style=\"text-align: right;\">\n      <th></th>\n      <th>Edge Frequency</th>\n    </tr>\n  </thead>\n  <tbody>\n    <tr>\n      <th>(Unnecessary Display Of Weapon / On Duty, Unnecessary Display Of Weapon / On Duty)</th>\n      <td>70</td>\n    </tr>\n    <tr>\n      <th>(Unnecessary Display Of Weapon / On Duty, Domestic Altercation - Physical Abuse)</th>\n      <td>1</td>\n    </tr>\n    <tr>\n      <th>(Domestic Altercation - Physical Abuse, Domestic Altercation - Physical Abuse)</th>\n      <td>350</td>\n    </tr>\n    <tr>\n      <th>(Domestic Incident - Not Physical, Domestic Incident - Not Physical)</th>\n      <td>255</td>\n    </tr>\n    <tr>\n      <th>(Inadequate / Failure To Provide Service, Inadequate / Failure To Provide Service)</th>\n      <td>524</td>\n    </tr>\n  </tbody>\n</table>\n</div>"
     },
     "metadata": {},
     "output_type": "execute_result",
     "execution_count": 38
    }
   ],
   "source": [
    "df_edges.head()"
   ]
  },
  {
   "cell_type": "code",
   "execution_count": 39,
   "metadata": {
    "pycharm": {
     "is_executing": false
    }
   },
   "outputs": [
    {
     "data": {
      "text/plain": "array([[<matplotlib.axes._subplots.AxesSubplot object at 0x7efbca417668>]], dtype=object)"
     },
     "metadata": {},
     "output_type": "execute_result",
     "execution_count": 39
    },
    {
     "data": {
      "text/plain": "<matplotlib.figure.Figure at 0x7efbca3f5668>",
      "image/png": "[encoded data removed]"
     },
     "metadata": {
      "needs_background": "light"
     },
     "output_type": "display_data"
    }
   ],
   "source": [
    "df_edges.hist(bins=40, log=True)"
   ]
  },
  {
   "cell_type": "code",
   "execution_count": 40,
   "metadata": {
    "pycharm": {
     "is_executing": false
    }
   },
   "outputs": [],
   "source": [
    "G = nx.Graph()"
   ]
  },
  {
   "cell_type": "code",
   "execution_count": 41,
   "metadata": {
    "pycharm": {
     "is_executing": false
    }
   },
   "outputs": [],
   "source": [
    "nodes = dict()\n",
    "\n",
    "for row in set(edges):\n",
    "    if row[0] not in nodes:\n",
    "        nodes[row[0]] = len(nodes)\n",
    "        G.add_node(nodes[row[0]], name=row[0])\n",
    "    if row[1] not in nodes:\n",
    "        nodes[row[1]] = len(nodes)\n",
    "        G.add_node(nodes[row[1]], name=row[1])\n",
    "    G.add_edge(nodes[row[0]], nodes[row[1]], weight=float(edge_counts[row]))"
   ]
  },
  {
   "cell_type": "code",
   "execution_count": 42,
   "metadata": {
    "pycharm": {
     "is_executing": false
    }
   },
   "outputs": [
    {
     "data": {
      "text/plain": "101"
     },
     "metadata": {},
     "output_type": "execute_result",
     "execution_count": 42
    }
   ],
   "source": [
    "len(nodes)"
   ]
  },
  {
   "cell_type": "code",
   "execution_count": 43,
   "metadata": {
    "pycharm": {
     "is_executing": false
    }
   },
   "outputs": [
    {
     "data": {
      "text/plain": "725"
     },
     "metadata": {},
     "output_type": "execute_result",
     "execution_count": 43
    }
   ],
   "source": [
    "len(G.edges)"
   ]
  },
  {
   "cell_type": "code",
   "execution_count": 44,
   "metadata": {
    "pycharm": {
     "is_executing": false
    }
   },
   "outputs": [
    {
     "traceback": [
      "\u001b[0;31m---------------------------------------------------------------------------\u001b[0m",
      "\u001b[0;31mAttributeError\u001b[0m                            Traceback (most recent call last)",
      "\u001b[0;32m<ipython-input-44-2cf24ea7e4be>\u001b[0m in \u001b[0;36m<module>\u001b[0;34m\u001b[0m\n\u001b[0;32m----> 1\u001b[0;31m \u001b[0mpartition\u001b[0m \u001b[0;34m=\u001b[0m \u001b[0mcommunity\u001b[0m\u001b[0;34m.\u001b[0m\u001b[0mbest_partition\u001b[0m\u001b[0;34m(\u001b[0m\u001b[0mG\u001b[0m\u001b[0;34m,\u001b[0m \u001b[0mweight\u001b[0m\u001b[0;34m=\u001b[0m\u001b[0;34m'weight'\u001b[0m\u001b[0;34m)\u001b[0m\u001b[0;34m\u001b[0m\u001b[0;34m\u001b[0m\u001b[0m\n\u001b[0m\u001b[1;32m      2\u001b[0m \u001b[0;34m\u001b[0m\u001b[0m\n",
      "\u001b[0;31mAttributeError\u001b[0m: module 'community' has no attribute 'best_partition'"
     ],
     "ename": "AttributeError",
     "evalue": "module 'community' has no attribute 'best_partition'",
     "output_type": "error"
    }
   ],
   "source": [
    "partition = community.best_partition(G, weight='weight')"
   ]
  },
  {
   "cell_type": "code",
   "execution_count": null,
   "metadata": {
    "pycharm": {
     "is_executing": false
    }
   },
   "outputs": [],
   "source": [
    "size = float(len(set(partition.values())))\n",
    "pos = nx.spring_layout(G)\n",
    "count = 0.\n",
    "for com in set(partition.values()) :\n",
    "    count = count + 1.\n",
    "    list_nodes = [nodes for nodes in partition.keys()\n",
    "                                if partition[nodes] == com]\n",
    "    nx.draw_networkx_nodes(G, pos, list_nodes, node_size = 30,\n",
    "                                node_color = str(count / size))\n",
    "\n",
    "\n",
    "nx.draw_networkx_edges(G, pos, alpha=0.5)\n",
    "plt.show()"
   ]
  },
  {
   "cell_type": "code",
   "execution_count": null,
   "metadata": {
    "pycharm": {
     "is_executing": false
    }
   },
   "outputs": [],
   "source": [
    "community.modularity(partition, G)"
   ]
  },
  {
   "cell_type": "code",
   "execution_count": null,
   "metadata": {
    "pycharm": {
     "is_executing": false
    }
   },
   "outputs": [],
   "source": [
    "len(partition.values())"
   ]
  },
  {
   "cell_type": "code",
   "execution_count": null,
   "metadata": {
    "pycharm": {
     "is_executing": false
    }
   },
   "outputs": [],
   "source": [
    "communities = { i : [] for i in range(0,40) }\n",
    "\n",
    "[communities[community].append(G.node[node]['name']) for node, community in enumerate(partition.values())]"
   ]
  },
  {
   "cell_type": "code",
   "execution_count": null,
   "metadata": {
    "pycharm": {
     "is_executing": false
    }
   },
   "outputs": [],
   "source": [
    "communities"
   ]
  },
  {
   "cell_type": "code",
   "execution_count": null,
   "metadata": {
    "pycharm": {
     "is_executing": false
    }
   },
   "outputs": [],
   "source": [
    "community.best_partition\n"
   ]
  }
 ],
 "metadata": {
  "kernelspec": {
   "display_name": "Python 3",
   "language": "python",
   "name": "python3"
  },
  "language_info": {
   "codemirror_mode": {
    "name": "ipython",
    "version": 3
   },
   "file_extension": ".py",
   "mimetype": "text/x-python",
   "name": "python",
   "nbconvert_exporter": "python",
   "pygments_lexer": "ipython3",
   "version": "3.7.4"
  },
  "pycharm": {
   "stem_cell": {
    "cell_type": "raw",
    "source": [],
    "metadata": {
     "collapsed": false
    }
   }
  }
 },
 "nbformat": 4,
 "nbformat_minor": 2
}