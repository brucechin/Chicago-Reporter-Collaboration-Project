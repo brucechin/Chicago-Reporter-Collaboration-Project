{
 "cells": [
  {
   "cell_type": "code",
   "execution_count": 19,
   "metadata": {
    "pycharm": {
     "is_executing": false
    }
   },
   "outputs": [
    {
     "name": "stderr",
     "output_type": "stream",
     "text": [
      "[nltk_data] Downloading package punkt to C:\\Users\\Lianke\n",
      "[nltk_data]     Qin\\AppData\\Roaming\\nltk_data...\n",
      "[nltk_data]   Package punkt is already up-to-date!\n",
      "[nltk_data] Downloading package stopwords to C:\\Users\\Lianke\n",
      "[nltk_data]     Qin\\AppData\\Roaming\\nltk_data...\n",
      "[nltk_data]   Package stopwords is already up-to-date!\n"
     ]
    }
   ],
   "source": [
    "import pandas as pd\n",
    "import nltk\n",
    "import string\n",
    "from sklearn.model_selection import cross_val_score\n",
    "\n",
    "nltk.download('punkt')\n",
    "nltk.download('stopwords')\n",
    "stopwords = nltk.corpus.stopwords.words('english')"
   ]
  },
  {
   "cell_type": "code",
   "execution_count": 20,
   "metadata": {
    "pycharm": {
     "is_executing": false
    }
   },
   "outputs": [],
   "source": [
    "stopwords += list(string.punctuation)"
   ]
  },
  {
   "cell_type": "code",
   "execution_count": 21,
   "metadata": {
    "pycharm": {
     "is_executing": false
    }
   },
   "outputs": [],
   "source": [
    "df_all_tuples = pd.read_csv('all_tuples.csv')"
   ]
  },
  {
   "cell_type": "code",
   "execution_count": 22,
   "metadata": {
    "pycharm": {
     "is_executing": false
    }
   },
   "outputs": [],
   "source": [
    "df_all_tuples = df_all_tuples.fillna(False)"
   ]
  },
  {
   "cell_type": "code",
   "execution_count": 23,
   "metadata": {
    "pycharm": {
     "is_executing": false
    }
   },
   "outputs": [
    {
     "data": {
      "text/html": [
       "<div>\n",
       "<style scoped>\n",
       "    .dataframe tbody tr th:only-of-type {\n",
       "        vertical-align: middle;\n",
       "    }\n",
       "\n",
       "    .dataframe tbody tr th {\n",
       "        vertical-align: top;\n",
       "    }\n",
       "\n",
       "    .dataframe thead th {\n",
       "        text-align: right;\n",
       "    }\n",
       "</style>\n",
       "<table border=\"1\" class=\"dataframe\">\n",
       "  <thead>\n",
       "    <tr style=\"text-align: right;\">\n",
       "      <th></th>\n",
       "      <th>document_text</th>\n",
       "      <th>nudity_penetration</th>\n",
       "      <th>sexual_harassment_remarks</th>\n",
       "      <th>sexual_humiliation_extortion_or_sex_work</th>\n",
       "      <th>tasers</th>\n",
       "      <th>trespass</th>\n",
       "      <th>racial_slurs</th>\n",
       "      <th>planting_drugs_guns</th>\n",
       "      <th>neglect_of_duty</th>\n",
       "      <th>refuse_medical_assistance</th>\n",
       "      <th>irrational_aggressive_unstable</th>\n",
       "      <th>searching_arresting_minors</th>\n",
       "    </tr>\n",
       "  </thead>\n",
       "  <tbody>\n",
       "    <tr>\n",
       "      <th>0</th>\n",
       "      <td>SUMMARY REPORT DIGEST- COMPLAINT REGISTER INVE...</td>\n",
       "      <td>False</td>\n",
       "      <td>False</td>\n",
       "      <td>False</td>\n",
       "      <td>False</td>\n",
       "      <td>False</td>\n",
       "      <td>False</td>\n",
       "      <td>False</td>\n",
       "      <td>False</td>\n",
       "      <td>False</td>\n",
       "      <td>False</td>\n",
       "      <td>False</td>\n",
       "    </tr>\n",
       "    <tr>\n",
       "      <th>1</th>\n",
       "      <td>COMMAND CHANNEL REVIEW A Sasso Emp 14982 NW 1 ...</td>\n",
       "      <td>False</td>\n",
       "      <td>False</td>\n",
       "      <td>False</td>\n",
       "      <td>False</td>\n",
       "      <td>False</td>\n",
       "      <td>False</td>\n",
       "      <td>False</td>\n",
       "      <td>False</td>\n",
       "      <td>False</td>\n",
       "      <td>False</td>\n",
       "      <td>False</td>\n",
       "    </tr>\n",
       "    <tr>\n",
       "      <th>2</th>\n",
       "      <td>SUMMARY REPORT DIGEST- COMPLAINT REGISTER INVE...</td>\n",
       "      <td>False</td>\n",
       "      <td>False</td>\n",
       "      <td>False</td>\n",
       "      <td>True</td>\n",
       "      <td>False</td>\n",
       "      <td>False</td>\n",
       "      <td>True</td>\n",
       "      <td>False</td>\n",
       "      <td>False</td>\n",
       "      <td>False</td>\n",
       "      <td>False</td>\n",
       "    </tr>\n",
       "    <tr>\n",
       "      <th>3</th>\n",
       "      <td>SUMMARY REPORT DIGEST- DATE OF REPORTIDAY-MO.-...</td>\n",
       "      <td>False</td>\n",
       "      <td>False</td>\n",
       "      <td>False</td>\n",
       "      <td>False</td>\n",
       "      <td>False</td>\n",
       "      <td>False</td>\n",
       "      <td>False</td>\n",
       "      <td>False</td>\n",
       "      <td>False</td>\n",
       "      <td>False</td>\n",
       "      <td>False</td>\n",
       "    </tr>\n",
       "    <tr>\n",
       "      <th>4</th>\n",
       "      <td>SUM MARY REPORT I DATE OF REPORT IDAY-MO  COMP...</td>\n",
       "      <td>False</td>\n",
       "      <td>False</td>\n",
       "      <td>False</td>\n",
       "      <td>False</td>\n",
       "      <td>False</td>\n",
       "      <td>False</td>\n",
       "      <td>False</td>\n",
       "      <td>False</td>\n",
       "      <td>False</td>\n",
       "      <td>False</td>\n",
       "      <td>False</td>\n",
       "    </tr>\n",
       "  </tbody>\n",
       "</table>\n",
       "</div>"
      ],
      "text/plain": [
       "                                       document_text  nudity_penetration  \\\n",
       "0  SUMMARY REPORT DIGEST- COMPLAINT REGISTER INVE...               False   \n",
       "1  COMMAND CHANNEL REVIEW A Sasso Emp 14982 NW 1 ...               False   \n",
       "2  SUMMARY REPORT DIGEST- COMPLAINT REGISTER INVE...               False   \n",
       "3  SUMMARY REPORT DIGEST- DATE OF REPORTIDAY-MO.-...               False   \n",
       "4  SUM MARY REPORT I DATE OF REPORT IDAY-MO  COMP...               False   \n",
       "\n",
       "   sexual_harassment_remarks  sexual_humiliation_extortion_or_sex_work  \\\n",
       "0                      False                                     False   \n",
       "1                      False                                     False   \n",
       "2                      False                                     False   \n",
       "3                      False                                     False   \n",
       "4                      False                                     False   \n",
       "\n",
       "   tasers  trespass  racial_slurs  planting_drugs_guns  neglect_of_duty  \\\n",
       "0   False     False         False                False            False   \n",
       "1   False     False         False                False            False   \n",
       "2    True     False         False                 True            False   \n",
       "3   False     False         False                False            False   \n",
       "4   False     False         False                False            False   \n",
       "\n",
       "   refuse_medical_assistance  irrational_aggressive_unstable  \\\n",
       "0                      False                           False   \n",
       "1                      False                           False   \n",
       "2                      False                           False   \n",
       "3                      False                           False   \n",
       "4                      False                           False   \n",
       "\n",
       "   searching_arresting_minors  \n",
       "0                       False  \n",
       "1                       False  \n",
       "2                       False  \n",
       "3                       False  \n",
       "4                       False  "
      ]
     },
     "execution_count": 23,
     "metadata": {},
     "output_type": "execute_result"
    }
   ],
   "source": [
    "df_all_tuples.head()"
   ]
  },
  {
   "cell_type": "code",
   "execution_count": 24,
   "metadata": {
    "pycharm": {
     "is_executing": false
    }
   },
   "outputs": [],
   "source": [
    "label_cols = ['nudity_penetration', 'sexual_harassment_remarks','sexual_humiliation_extortion_or_sex_work', 'tasers', 'trespass','racial_slurs', 'planting_drugs_guns', 'neglect_of_duty','refuse_medical_assistance', 'irrational_aggressive_unstable','searching_arresting_minors']"
   ]
  },
  {
   "cell_type": "code",
   "execution_count": 25,
   "metadata": {
    "pycharm": {
     "is_executing": false
    }
   },
   "outputs": [
    {
     "name": "stdout",
     "output_type": "stream",
     "text": [
      "nudity_penetration: 1\n",
      "sexual_harassment_remarks: 1\n",
      "sexual_humiliation_extortion_or_sex_work: 3\n",
      "tasers: 46\n",
      "trespass: 26\n",
      "racial_slurs: 6\n",
      "planting_drugs_guns: 9\n",
      "neglect_of_duty: 8\n",
      "refuse_medical_assistance: 0\n",
      "irrational_aggressive_unstable: 1\n",
      "searching_arresting_minors: 1\n"
     ]
    }
   ],
   "source": [
    "for label in label_cols:\n",
    "    print(label + ': ' + str(sum(df_all_tuples[label])))"
   ]
  },
  {
   "cell_type": "code",
   "execution_count": 26,
   "metadata": {
    "pycharm": {
     "is_executing": false
    }
   },
   "outputs": [],
   "source": [
    "df_minority_class = df_all_tuples.loc[(df_all_tuples == True).any(axis=1)]"
   ]
  },
  {
   "cell_type": "code",
   "execution_count": 27,
   "metadata": {
    "pycharm": {
     "is_executing": false
    }
   },
   "outputs": [
    {
     "data": {
      "text/plain": [
       "(90, 1220)"
      ]
     },
     "execution_count": 27,
     "metadata": {},
     "output_type": "execute_result"
    }
   ],
   "source": [
    "len(df_minority_class), len(df_all_tuples)"
   ]
  },
  {
   "cell_type": "code",
   "execution_count": 28,
   "metadata": {
    "pycharm": {
     "is_executing": false
    }
   },
   "outputs": [
    {
     "data": {
      "text/plain": [
       "12.555555555555555"
      ]
     },
     "execution_count": 28,
     "metadata": {},
     "output_type": "execute_result"
    }
   ],
   "source": [
    "(1220 - 90) / 90"
   ]
  },
  {
   "cell_type": "code",
   "execution_count": 29,
   "metadata": {
    "pycharm": {
     "is_executing": false
    }
   },
   "outputs": [],
   "source": [
    "df_oversampled = df_all_tuples.append([df_minority_class]*12,ignore_index=True)"
   ]
  },
  {
   "cell_type": "code",
   "execution_count": 30,
   "metadata": {
    "pycharm": {
     "is_executing": false
    }
   },
   "outputs": [
    {
     "data": {
      "text/html": [
       "<div>\n",
       "<style scoped>\n",
       "    .dataframe tbody tr th:only-of-type {\n",
       "        vertical-align: middle;\n",
       "    }\n",
       "\n",
       "    .dataframe tbody tr th {\n",
       "        vertical-align: top;\n",
       "    }\n",
       "\n",
       "    .dataframe thead th {\n",
       "        text-align: right;\n",
       "    }\n",
       "</style>\n",
       "<table border=\"1\" class=\"dataframe\">\n",
       "  <thead>\n",
       "    <tr style=\"text-align: right;\">\n",
       "      <th></th>\n",
       "      <th>document_text</th>\n",
       "      <th>nudity_penetration</th>\n",
       "      <th>sexual_harassment_remarks</th>\n",
       "      <th>sexual_humiliation_extortion_or_sex_work</th>\n",
       "      <th>tasers</th>\n",
       "      <th>trespass</th>\n",
       "      <th>racial_slurs</th>\n",
       "      <th>planting_drugs_guns</th>\n",
       "      <th>neglect_of_duty</th>\n",
       "      <th>refuse_medical_assistance</th>\n",
       "      <th>irrational_aggressive_unstable</th>\n",
       "      <th>searching_arresting_minors</th>\n",
       "    </tr>\n",
       "  </thead>\n",
       "  <tbody>\n",
       "    <tr>\n",
       "      <th>0</th>\n",
       "      <td>SUMMARY REPORT DIGEST- COMPLAINT REGISTER INVE...</td>\n",
       "      <td>False</td>\n",
       "      <td>False</td>\n",
       "      <td>False</td>\n",
       "      <td>False</td>\n",
       "      <td>False</td>\n",
       "      <td>False</td>\n",
       "      <td>False</td>\n",
       "      <td>False</td>\n",
       "      <td>False</td>\n",
       "      <td>False</td>\n",
       "      <td>False</td>\n",
       "    </tr>\n",
       "    <tr>\n",
       "      <th>1</th>\n",
       "      <td>COMMAND CHANNEL REVIEW A Sasso Emp 14982 NW 1 ...</td>\n",
       "      <td>False</td>\n",
       "      <td>False</td>\n",
       "      <td>False</td>\n",
       "      <td>False</td>\n",
       "      <td>False</td>\n",
       "      <td>False</td>\n",
       "      <td>False</td>\n",
       "      <td>False</td>\n",
       "      <td>False</td>\n",
       "      <td>False</td>\n",
       "      <td>False</td>\n",
       "    </tr>\n",
       "    <tr>\n",
       "      <th>2</th>\n",
       "      <td>SUMMARY REPORT DIGEST- COMPLAINT REGISTER INVE...</td>\n",
       "      <td>False</td>\n",
       "      <td>False</td>\n",
       "      <td>False</td>\n",
       "      <td>True</td>\n",
       "      <td>False</td>\n",
       "      <td>False</td>\n",
       "      <td>True</td>\n",
       "      <td>False</td>\n",
       "      <td>False</td>\n",
       "      <td>False</td>\n",
       "      <td>False</td>\n",
       "    </tr>\n",
       "    <tr>\n",
       "      <th>3</th>\n",
       "      <td>SUMMARY REPORT DIGEST- DATE OF REPORTIDAY-MO.-...</td>\n",
       "      <td>False</td>\n",
       "      <td>False</td>\n",
       "      <td>False</td>\n",
       "      <td>False</td>\n",
       "      <td>False</td>\n",
       "      <td>False</td>\n",
       "      <td>False</td>\n",
       "      <td>False</td>\n",
       "      <td>False</td>\n",
       "      <td>False</td>\n",
       "      <td>False</td>\n",
       "    </tr>\n",
       "    <tr>\n",
       "      <th>4</th>\n",
       "      <td>SUM MARY REPORT I DATE OF REPORT IDAY-MO  COMP...</td>\n",
       "      <td>False</td>\n",
       "      <td>False</td>\n",
       "      <td>False</td>\n",
       "      <td>False</td>\n",
       "      <td>False</td>\n",
       "      <td>False</td>\n",
       "      <td>False</td>\n",
       "      <td>False</td>\n",
       "      <td>False</td>\n",
       "      <td>False</td>\n",
       "      <td>False</td>\n",
       "    </tr>\n",
       "  </tbody>\n",
       "</table>\n",
       "</div>"
      ],
      "text/plain": [
       "                                       document_text  nudity_penetration  \\\n",
       "0  SUMMARY REPORT DIGEST- COMPLAINT REGISTER INVE...               False   \n",
       "1  COMMAND CHANNEL REVIEW A Sasso Emp 14982 NW 1 ...               False   \n",
       "2  SUMMARY REPORT DIGEST- COMPLAINT REGISTER INVE...               False   \n",
       "3  SUMMARY REPORT DIGEST- DATE OF REPORTIDAY-MO.-...               False   \n",
       "4  SUM MARY REPORT I DATE OF REPORT IDAY-MO  COMP...               False   \n",
       "\n",
       "   sexual_harassment_remarks  sexual_humiliation_extortion_or_sex_work  \\\n",
       "0                      False                                     False   \n",
       "1                      False                                     False   \n",
       "2                      False                                     False   \n",
       "3                      False                                     False   \n",
       "4                      False                                     False   \n",
       "\n",
       "   tasers  trespass  racial_slurs  planting_drugs_guns  neglect_of_duty  \\\n",
       "0   False     False         False                False            False   \n",
       "1   False     False         False                False            False   \n",
       "2    True     False         False                 True            False   \n",
       "3   False     False         False                False            False   \n",
       "4   False     False         False                False            False   \n",
       "\n",
       "   refuse_medical_assistance  irrational_aggressive_unstable  \\\n",
       "0                      False                           False   \n",
       "1                      False                           False   \n",
       "2                      False                           False   \n",
       "3                      False                           False   \n",
       "4                      False                           False   \n",
       "\n",
       "   searching_arresting_minors  \n",
       "0                       False  \n",
       "1                       False  \n",
       "2                       False  \n",
       "3                       False  \n",
       "4                       False  "
      ]
     },
     "execution_count": 30,
     "metadata": {},
     "output_type": "execute_result"
    }
   ],
   "source": [
    "df_oversampled.head()"
   ]
  },
  {
   "cell_type": "code",
   "execution_count": 31,
   "metadata": {
    "pycharm": {
     "is_executing": false
    }
   },
   "outputs": [
    {
     "data": {
      "text/plain": [
       "2300"
      ]
     },
     "execution_count": 31,
     "metadata": {},
     "output_type": "execute_result"
    }
   ],
   "source": [
    "len(df_oversampled)"
   ]
  },
  {
   "cell_type": "code",
   "execution_count": 32,
   "metadata": {
    "pycharm": {
     "is_executing": false
    }
   },
   "outputs": [
    {
     "name": "stdout",
     "output_type": "stream",
     "text": [
      "nudity_penetration: 13\n",
      "sexual_harassment_remarks: 13\n",
      "sexual_humiliation_extortion_or_sex_work: 39\n",
      "tasers: 598\n",
      "trespass: 338\n",
      "racial_slurs: 78\n",
      "planting_drugs_guns: 117\n",
      "neglect_of_duty: 104\n",
      "refuse_medical_assistance: 0\n",
      "irrational_aggressive_unstable: 13\n",
      "searching_arresting_minors: 13\n"
     ]
    }
   ],
   "source": [
    "for label in label_cols:\n",
    "    print(label + ': ' + str(sum(df_oversampled[label])))"
   ]
  },
  {
   "cell_type": "code",
   "execution_count": 33,
   "metadata": {
    "pycharm": {
     "is_executing": false
    }
   },
   "outputs": [],
   "source": [
    "def normalize(txt):\n",
    "    well_formed_words = [word.lower() for word in nltk.tokenize.word_tokenize(txt.strip()) if '?' not in word]\n",
    "    non_stop_words = [word for word in well_formed_words if word not in stopwords]\n",
    "    return ' '.join(non_stop_words)"
   ]
  },
  {
   "cell_type": "code",
   "execution_count": 34,
   "metadata": {
    "pycharm": {
     "is_executing": true
    }
   },
   "outputs": [],
   "source": [
    "df_oversampled['normalized_text'] = df_oversampled['document_text'].apply(lambda x: normalize(x))"
   ]
  },
  {
   "cell_type": "code",
   "execution_count": null,
   "metadata": {
    "pycharm": {
     "is_executing": true
    }
   },
   "outputs": [],
   "source": []
  },
  {
   "cell_type": "code",
   "execution_count": null,
   "metadata": {
    "pycharm": {
     "is_executing": true
    }
   },
   "outputs": [],
   "source": []
  },
  {
   "cell_type": "code",
   "execution_count": 35,
   "metadata": {
    "pycharm": {
     "is_executing": true
    }
   },
   "outputs": [],
   "source": [
    "from sklearn.model_selection import train_test_split\n",
    "from sklearn.feature_extraction.text import TfidfVectorizer\n",
    "from sklearn.naive_bayes import MultinomialNB\n",
    "from sklearn.svm import LinearSVC\n",
    "from sklearn.linear_model import LogisticRegression\n",
    "from sklearn.metrics import f1_score\n",
    "from sklearn.multiclass import OneVsRestClassifier\n",
    "\n",
    "from sklearn.pipeline import Pipeline"
   ]
  },
  {
   "cell_type": "code",
   "execution_count": 36,
   "metadata": {
    "pycharm": {
     "is_executing": true
    }
   },
   "outputs": [
    {
     "name": "stdout",
     "output_type": "stream",
     "text": [
      "1982    summary report qige57complaint register invest...\n",
      "2278    summary report digest- complaint register inve...\n",
      "385     member police board city chicago matter recomm...\n",
      "1322    summary report digest- complaint register inve...\n",
      "1364    286471 command channel review date initiated c...\n",
      "                              ...                        \n",
      "1638    summary report register investigation chicago ...\n",
      "1095    jill tiilall 1.1 lit-si jiyii lit/lull till-la...\n",
      "1130    1018691 summary report log 'wa report chicago ...\n",
      "1294    summary report digestconiplaint register inves...\n",
      "860     battery report chicago police department instr...\n",
      "Name: normalized_text, Length: 1150, dtype: object\n"
     ]
    }
   ],
   "source": [
    "train, test = train_test_split(df_oversampled, random_state=42, test_size=0.5, shuffle=True)\n",
    "X_train = train['normalized_text']\n",
    "X_test = test['normalized_text']\n",
    "print(X_train)\n"
   ]
  },
  {
   "cell_type": "code",
   "execution_count": 37,
   "metadata": {
    "pycharm": {
     "is_executing": true
    }
   },
   "outputs": [
    {
     "name": "stdout",
     "output_type": "stream",
     "text": [
      "... Processing nudity_penetration\n",
      "[False False False ... False False False]\n",
      "1150\n",
      "8\n",
      "Test F1-score is 1.0\n",
      "... Processing sexual_harassment_remarks\n",
      "[False False False ... False False False]\n",
      "1150\n",
      "6\n",
      "Test F1-score is 1.0\n",
      "... Processing sexual_humiliation_extortion_or_sex_work\n",
      "[False False False ... False False False]\n",
      "1150\n",
      "16\n",
      "Test F1-score is 1.0\n",
      "... Processing tasers\n",
      "[False False False ... False  True False]\n",
      "1150\n",
      "293\n",
      "Test F1-score is 0.9982905982905983\n",
      "... Processing trespass\n",
      "[False  True False ... False False False]\n",
      "1150\n",
      "176\n",
      "Test F1-score is 0.9942857142857142\n",
      "... Processing racial_slurs\n",
      "[False False False ... False False False]\n",
      "1150\n",
      "39\n",
      "Test F1-score is 1.0\n",
      "... Processing planting_drugs_guns\n",
      "[False False False ... False False False]\n",
      "1150\n",
      "62\n",
      "Test F1-score is 1.0\n",
      "... Processing neglect_of_duty\n",
      "[False False False ... False False False]\n",
      "1150\n",
      "46\n",
      "Test F1-score is 1.0\n",
      "... Processing refuse_medical_assistance\n"
     ]
    },
    {
     "name": "stderr",
     "output_type": "stream",
     "text": [
      "c:\\users\\lianke qin\\appdata\\local\\programs\\python\\python37\\lib\\site-packages\\sklearn\\multiclass.py:76: UserWarning: Label not False is present in all training examples.\n",
      "  str(classes[c]))\n"
     ]
    },
    {
     "name": "stdout",
     "output_type": "stream",
     "text": [
      "[False False False ... False False False]\n",
      "1150\n",
      "0\n",
      "Test F1-score is 0.0\n",
      "... Processing irrational_aggressive_unstable\n"
     ]
    },
    {
     "name": "stderr",
     "output_type": "stream",
     "text": [
      "c:\\users\\lianke qin\\appdata\\local\\programs\\python\\python37\\lib\\site-packages\\sklearn\\metrics\\classification.py:1437: UndefinedMetricWarning: F-score is ill-defined and being set to 0.0 due to no predicted samples.\n",
      "  'precision', 'predicted', average, warn_for)\n",
      "c:\\users\\lianke qin\\appdata\\local\\programs\\python\\python37\\lib\\site-packages\\sklearn\\metrics\\classification.py:1439: UndefinedMetricWarning: F-score is ill-defined and being set to 0.0 due to no true samples.\n",
      "  'recall', 'true', average, warn_for)\n"
     ]
    },
    {
     "name": "stdout",
     "output_type": "stream",
     "text": [
      "[False False False ... False False False]\n",
      "1150\n",
      "8\n",
      "Test F1-score is 1.0\n",
      "... Processing searching_arresting_minors\n",
      "[False False False ... False False False]\n",
      "1150\n",
      "8\n",
      "Test F1-score is 1.0\n"
     ]
    }
   ],
   "source": [
    "SVC_pipeline = Pipeline([\n",
    "                ('tfidf', TfidfVectorizer()),\n",
    "                ('clf', OneVsRestClassifier(LinearSVC(), n_jobs=1)),\n",
    "            ])\n",
    "\n",
    "for label in label_cols:\n",
    "    print('... Processing {}'.format(label))\n",
    "    SVC_pipeline.fit(X_train, train[label])\n",
    "    prediction = SVC_pipeline.predict(X_test)\n",
    "    print(prediction)\n",
    "    print(len(prediction))\n",
    "    print(sum(prediction))\n",
    "    print('Test F1-score is {}'.format(f1_score(test[label], prediction, 'macro')))"
   ]
  },
  {
   "cell_type": "code",
   "execution_count": 38,
   "metadata": {
    "pycharm": {
     "is_executing": true
    }
   },
   "outputs": [
    {
     "name": "stdout",
     "output_type": "stream",
     "text": [
      "[1. 1. 1. 1. 1.]\n",
      "[1. 1. 1. 1. 1.]\n",
      "[1. 1. 1. 1. 1.]\n",
      "[0.97830803 1.         1.         0.98910675 1.        ]\n",
      "[0.97613883 1.         1.         1.         1.        ]\n",
      "[1. 1. 1. 1. 1.]\n",
      "[1. 1. 1. 1. 1.]\n",
      "[1. 1. 1. 1. 1.]\n",
      "[1. 1. 1. 1. 1.]\n",
      "[1. 1. 1. 1. 1.]\n",
      "[1. 1. 1. 1. 1.]\n"
     ]
    }
   ],
   "source": [
    "train, test = train_test_split(df_oversampled, random_state=42, test_size=0.5, shuffle=True)\n",
    "X_train = train['normalized_text']\n",
    "X_test = test['normalized_text']\n",
    "X = df_oversampled['normalized_text']\n",
    "\n",
    "#key is label, value is corresponding SVM prediction model\n",
    "SVC_map = {}\n",
    "\n",
    "for label in label_cols:\n",
    "    SVC_pipeline = Pipeline([('tfidf', TfidfVectorizer()),('clf', OneVsRestClassifier(LinearSVC(penalty='l2'), n_jobs=8)),])\n",
    "    SVC_pipeline.fit(X_train, train[label])\n",
    "    scores = cross_val_score(SVC_pipeline, X, df_oversampled[label], cv=10)\n",
    "    print(scores)\n",
    "    SVC_map[label] = SVC_pipeline"
   ]
  },
  {
   "cell_type": "code",
   "execution_count": 40,
   "metadata": {
    "pycharm": {
     "is_executing": true
    }
   },
   "outputs": [
    {
     "name": "stdout",
     "output_type": "stream",
     "text": [
      "   nudity_penetration  sexual_harassment_remarks  \\\n",
      "0               False                      False   \n",
      "1               False                      False   \n",
      "2               False                      False   \n",
      "3               False                      False   \n",
      "4               False                      False   \n",
      "\n",
      "   sexual_humiliation_extortion_or_sex_work  tasers  trespass  racial_slurs  \\\n",
      "0                                     False   False     False         False   \n",
      "1                                     False   False      True         False   \n",
      "2                                     False   False     False         False   \n",
      "3                                     False   False     False         False   \n",
      "4                                     False   False     False         False   \n",
      "\n",
      "   planting_drugs_guns  neglect_of_duty  refuse_medical_assistance  \\\n",
      "0                False            False                      False   \n",
      "1                False            False                      False   \n",
      "2                False            False                      False   \n",
      "3                False             True                      False   \n",
      "4                False            False                      False   \n",
      "\n",
      "   irrational_aggressive_unstable  searching_arresting_minors  \n",
      "0                           False                       False  \n",
      "1                           False                       False  \n",
      "2                           False                       False  \n",
      "3                           False                       False  \n",
      "4                           False                       False  \n"
     ]
    }
   ],
   "source": [
    "output = pd.DataFrame()\n",
    "for label in label_cols:\n",
    "    output[label] = SVC_map[label].predict(X_test)\n",
    "# output['ID'] = test_table['ID']\n",
    "print(output.head())"
   ]
  },
  {
   "cell_type": "code",
   "execution_count": null,
   "metadata": {
    "pycharm": {
     "is_executing": true
    }
   },
   "outputs": [],
   "source": [
    "prediction = SVC_pipeline.predict(X_test)\n",
    "print(prediction)"
   ]
  },
  {
   "cell_type": "code",
   "execution_count": null,
   "metadata": {
    "pycharm": {
     "is_executing": true
    }
   },
   "outputs": [],
   "source": []
  },
  {
   "cell_type": "code",
   "execution_count": null,
   "metadata": {
    "pycharm": {
     "is_executing": true
    }
   },
   "outputs": [],
   "source": []
  }
 ],
 "metadata": {
  "kernelspec": {
   "display_name": "Python 3",
   "language": "python",
   "name": "python3"
  },
  "pycharm": {
   "stem_cell": {
    "cell_type": "raw",
    "metadata": {
     "collapsed": false
    },
    "source": []
   }
  }
 },
 "nbformat": 4,
 "nbformat_minor": 2
}
