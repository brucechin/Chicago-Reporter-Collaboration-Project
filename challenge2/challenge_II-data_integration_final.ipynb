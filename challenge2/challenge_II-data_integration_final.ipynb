{
 "cells": [
  {
   "cell_type": "code",
   "execution_count": 15,
   "metadata": {
    "pycharm": {
     "is_executing": false
    }
   },
   "outputs": [],
   "source": [
    "import pandas as pd\n",
    "import os\n",
    "from Levenshtein import distance"
   ]
  },
  {
   "cell_type": "markdown",
   "metadata": {},
   "source": [
    "## Loading Officers table"
   ]
  },
  {
   "cell_type": "code",
   "execution_count": 16,
   "metadata": {
    "pycharm": {
     "is_executing": false
    }
   },
   "outputs": [],
   "source": [
    "df_officers = pd.read_csv(os.getcwd() + os.sep + 'data' + os.sep + 'data_officer.csv')"
   ]
  },
  {
   "cell_type": "code",
   "execution_count": 17,
   "metadata": {
    "pycharm": {
     "is_executing": false
    }
   },
   "outputs": [
    {
     "data": {
      "text/plain": "      id gender      race appointed_date            rank active  birth_year  \\\n0   3728      M     Black     1966-12-19      Lieutenant     No      1945.0   \n1   4316      M     White     1965-03-01  Police Officer     No      1934.0   \n2   4526      M     White     1961-02-13       Detective     No      1935.0   \n3   5039      M     White     1967-11-20        Sergeant     No      1937.0   \n4   5238      M     White     1966-02-28  Police Officer     No      1939.0   \n5   6287      M     Black     1962-08-13  Police Officer     No      1936.0   \n6   6389      M     Black     1968-10-28  Police Officer     No      1946.0   \n7   6888      M     White     1966-02-07  Police Officer     No      1936.0   \n8   6940      M     White     1966-06-01  Police Officer     No      1945.0   \n9   7317      M     White     1962-11-26  Police Officer     No      1931.0   \n10  7372      M     White     1978-12-11  Police Officer     No      1954.0   \n11  7375      M     White     1965-04-05        Sergeant     No      1941.0   \n12  7769      M     Black     1966-06-06  Police Officer     No      1938.0   \n13  7811      M     White     1967-12-18  Police Officer     No      1943.0   \n14  7956      M     White     1968-03-25  Police Officer     No      1945.0   \n15  8016      M     Black     1966-02-07  Police Officer     No      1938.0   \n16  8570      M     White     1960-10-10  Police Officer     No      1936.0   \n17  8812      M  Hispanic     1977-07-18  Police Officer     No      1943.0   \n18  8814      M  Hispanic     1970-06-15  Police Officer     No      1944.0   \n19  9098      M     White     1981-06-08  Police Officer     No      1950.0   \n\n   first_name     last_name tags middle_initial suffix_name resignation_date  \\\n0        Jake       Cameron  NaN              B          JR       1995-02-16   \n1      Donald  Centnarowicz  NaN              E         NaN       1995-03-16   \n2      Daniel        Chilla  NaN              S         NaN       1995-06-07   \n3      Dennis       Collins  NaN              F         NaN       1995-02-26   \n4      Carmen     Consolino  NaN              A         NaN       1995-04-13   \n5     Raymond         Davis  NaN              C         NaN       1995-03-10   \n6     William         Davis  NaN              H          JR       1995-06-02   \n7      Philip     Dienethal  NaN              A         NaN       1995-02-16   \n8      Donald       Dimberg  NaN              W         NaN       1995-07-16   \n9      Dennis         Doyle  NaN              T         NaN       1995-07-01   \n10      James          Drew  NaN              J         NaN       1995-03-08   \n11      James     Drewganis  NaN              W         NaN       1995-07-16   \n12    Charles       Edwards  NaN              N         NaN       1995-02-17   \n13    Richard       Ehrmann  NaN              B         NaN       1995-03-03   \n14     Philip       Englert  NaN              M         NaN       1995-07-01   \n15     Eugene         Ervin  NaN            NaN         NaN       1995-03-23   \n16      Frank         Fiore  NaN              A         NaN       1995-03-09   \n17      Louis        Flores  NaN            NaN          JR       1995-06-05   \n18     Joseph       Floress  NaN              A         NaN       1995-02-16   \n19   Terrence       Franzen  NaN            NaN         NaN       1995-08-04   \n\n    complaint_percentile middle_initial2  civilian_allegation_percentile  \\\n0                54.9532             NaN                             NaN   \n1                 0.0000             NaN                             NaN   \n2                 0.0000             NaN                             NaN   \n3                54.8532             NaN                             NaN   \n4                35.6277             NaN                             NaN   \n5                35.7027             NaN                             NaN   \n6                68.0262             NaN                             NaN   \n7                46.4085             NaN                             NaN   \n8                54.4535             NaN                             NaN   \n9                46.0962             NaN                             NaN   \n10               35.7152             NaN                             NaN   \n11               76.6708             NaN                             NaN   \n12               46.3960             NaN                             NaN   \n13               89.2942             NaN                             NaN   \n14                0.0000             NaN                             NaN   \n15               35.6777             NaN                             NaN   \n16                0.0000             NaN                             NaN   \n17               68.0200             NaN                             NaN   \n18               35.7589             NaN                             NaN   \n19               67.6015             NaN                             NaN   \n\n    honorable_mention_percentile  internal_allegation_percentile  \\\n0                            0.0                             NaN   \n1                            0.0                             NaN   \n2                            0.0                             NaN   \n3                            0.0                             NaN   \n4                            0.0                             NaN   \n5                            0.0                             NaN   \n6                            0.0                             NaN   \n7                            0.0                             NaN   \n8                            0.0                             NaN   \n9                            0.0                             NaN   \n10                           0.0                             NaN   \n11                           0.0                             NaN   \n12                           0.0                             NaN   \n13                           0.0                             NaN   \n14                           0.0                             NaN   \n15                           0.0                             NaN   \n16                           0.0                             NaN   \n17                           0.0                             NaN   \n18                           0.0                             NaN   \n19                           0.0                             NaN   \n\n    trr_percentile  \n0              NaN  \n1              NaN  \n2              NaN  \n3              NaN  \n4              NaN  \n5              NaN  \n6              NaN  \n7              NaN  \n8              NaN  \n9              NaN  \n10             NaN  \n11             NaN  \n12             NaN  \n13             NaN  \n14             NaN  \n15             NaN  \n16             NaN  \n17             NaN  \n18             NaN  \n19             NaN  ",
      "text/html": "<div>\n<style scoped>\n    .dataframe tbody tr th:only-of-type {\n        vertical-align: middle;\n    }\n\n    .dataframe tbody tr th {\n        vertical-align: top;\n    }\n\n    .dataframe thead th {\n        text-align: right;\n    }\n</style>\n<table border=\"1\" class=\"dataframe\">\n  <thead>\n    <tr style=\"text-align: right;\">\n      <th></th>\n      <th>id</th>\n      <th>gender</th>\n      <th>race</th>\n      <th>appointed_date</th>\n      <th>rank</th>\n      <th>active</th>\n      <th>birth_year</th>\n      <th>first_name</th>\n      <th>last_name</th>\n      <th>tags</th>\n      <th>middle_initial</th>\n      <th>suffix_name</th>\n      <th>resignation_date</th>\n      <th>complaint_percentile</th>\n      <th>middle_initial2</th>\n      <th>civilian_allegation_percentile</th>\n      <th>honorable_mention_percentile</th>\n      <th>internal_allegation_percentile</th>\n      <th>trr_percentile</th>\n    </tr>\n  </thead>\n  <tbody>\n    <tr>\n      <th>0</th>\n      <td>3728</td>\n      <td>M</td>\n      <td>Black</td>\n      <td>1966-12-19</td>\n      <td>Lieutenant</td>\n      <td>No</td>\n      <td>1945.0</td>\n      <td>Jake</td>\n      <td>Cameron</td>\n      <td>NaN</td>\n      <td>B</td>\n      <td>JR</td>\n      <td>1995-02-16</td>\n      <td>54.9532</td>\n      <td>NaN</td>\n      <td>NaN</td>\n      <td>0.0</td>\n      <td>NaN</td>\n      <td>NaN</td>\n    </tr>\n    <tr>\n      <th>1</th>\n      <td>4316</td>\n      <td>M</td>\n      <td>White</td>\n      <td>1965-03-01</td>\n      <td>Police Officer</td>\n      <td>No</td>\n      <td>1934.0</td>\n      <td>Donald</td>\n      <td>Centnarowicz</td>\n      <td>NaN</td>\n      <td>E</td>\n      <td>NaN</td>\n      <td>1995-03-16</td>\n      <td>0.0000</td>\n      <td>NaN</td>\n      <td>NaN</td>\n      <td>0.0</td>\n      <td>NaN</td>\n      <td>NaN</td>\n    </tr>\n    <tr>\n      <th>2</th>\n      <td>4526</td>\n      <td>M</td>\n      <td>White</td>\n      <td>1961-02-13</td>\n      <td>Detective</td>\n      <td>No</td>\n      <td>1935.0</td>\n      <td>Daniel</td>\n      <td>Chilla</td>\n      <td>NaN</td>\n      <td>S</td>\n      <td>NaN</td>\n      <td>1995-06-07</td>\n      <td>0.0000</td>\n      <td>NaN</td>\n      <td>NaN</td>\n      <td>0.0</td>\n      <td>NaN</td>\n      <td>NaN</td>\n    </tr>\n    <tr>\n      <th>3</th>\n      <td>5039</td>\n      <td>M</td>\n      <td>White</td>\n      <td>1967-11-20</td>\n      <td>Sergeant</td>\n      <td>No</td>\n      <td>1937.0</td>\n      <td>Dennis</td>\n      <td>Collins</td>\n      <td>NaN</td>\n      <td>F</td>\n      <td>NaN</td>\n      <td>1995-02-26</td>\n      <td>54.8532</td>\n      <td>NaN</td>\n      <td>NaN</td>\n      <td>0.0</td>\n      <td>NaN</td>\n      <td>NaN</td>\n    </tr>\n    <tr>\n      <th>4</th>\n      <td>5238</td>\n      <td>M</td>\n      <td>White</td>\n      <td>1966-02-28</td>\n      <td>Police Officer</td>\n      <td>No</td>\n      <td>1939.0</td>\n      <td>Carmen</td>\n      <td>Consolino</td>\n      <td>NaN</td>\n      <td>A</td>\n      <td>NaN</td>\n      <td>1995-04-13</td>\n      <td>35.6277</td>\n      <td>NaN</td>\n      <td>NaN</td>\n      <td>0.0</td>\n      <td>NaN</td>\n      <td>NaN</td>\n    </tr>\n    <tr>\n      <th>5</th>\n      <td>6287</td>\n      <td>M</td>\n      <td>Black</td>\n      <td>1962-08-13</td>\n      <td>Police Officer</td>\n      <td>No</td>\n      <td>1936.0</td>\n      <td>Raymond</td>\n      <td>Davis</td>\n      <td>NaN</td>\n      <td>C</td>\n      <td>NaN</td>\n      <td>1995-03-10</td>\n      <td>35.7027</td>\n      <td>NaN</td>\n      <td>NaN</td>\n      <td>0.0</td>\n      <td>NaN</td>\n      <td>NaN</td>\n    </tr>\n    <tr>\n      <th>6</th>\n      <td>6389</td>\n      <td>M</td>\n      <td>Black</td>\n      <td>1968-10-28</td>\n      <td>Police Officer</td>\n      <td>No</td>\n      <td>1946.0</td>\n      <td>William</td>\n      <td>Davis</td>\n      <td>NaN</td>\n      <td>H</td>\n      <td>JR</td>\n      <td>1995-06-02</td>\n      <td>68.0262</td>\n      <td>NaN</td>\n      <td>NaN</td>\n      <td>0.0</td>\n      <td>NaN</td>\n      <td>NaN</td>\n    </tr>\n    <tr>\n      <th>7</th>\n      <td>6888</td>\n      <td>M</td>\n      <td>White</td>\n      <td>1966-02-07</td>\n      <td>Police Officer</td>\n      <td>No</td>\n      <td>1936.0</td>\n      <td>Philip</td>\n      <td>Dienethal</td>\n      <td>NaN</td>\n      <td>A</td>\n      <td>NaN</td>\n      <td>1995-02-16</td>\n      <td>46.4085</td>\n      <td>NaN</td>\n      <td>NaN</td>\n      <td>0.0</td>\n      <td>NaN</td>\n      <td>NaN</td>\n    </tr>\n    <tr>\n      <th>8</th>\n      <td>6940</td>\n      <td>M</td>\n      <td>White</td>\n      <td>1966-06-01</td>\n      <td>Police Officer</td>\n      <td>No</td>\n      <td>1945.0</td>\n      <td>Donald</td>\n      <td>Dimberg</td>\n      <td>NaN</td>\n      <td>W</td>\n      <td>NaN</td>\n      <td>1995-07-16</td>\n      <td>54.4535</td>\n      <td>NaN</td>\n      <td>NaN</td>\n      <td>0.0</td>\n      <td>NaN</td>\n      <td>NaN</td>\n    </tr>\n    <tr>\n      <th>9</th>\n      <td>7317</td>\n      <td>M</td>\n      <td>White</td>\n      <td>1962-11-26</td>\n      <td>Police Officer</td>\n      <td>No</td>\n      <td>1931.0</td>\n      <td>Dennis</td>\n      <td>Doyle</td>\n      <td>NaN</td>\n      <td>T</td>\n      <td>NaN</td>\n      <td>1995-07-01</td>\n      <td>46.0962</td>\n      <td>NaN</td>\n      <td>NaN</td>\n      <td>0.0</td>\n      <td>NaN</td>\n      <td>NaN</td>\n    </tr>\n    <tr>\n      <th>10</th>\n      <td>7372</td>\n      <td>M</td>\n      <td>White</td>\n      <td>1978-12-11</td>\n      <td>Police Officer</td>\n      <td>No</td>\n      <td>1954.0</td>\n      <td>James</td>\n      <td>Drew</td>\n      <td>NaN</td>\n      <td>J</td>\n      <td>NaN</td>\n      <td>1995-03-08</td>\n      <td>35.7152</td>\n      <td>NaN</td>\n      <td>NaN</td>\n      <td>0.0</td>\n      <td>NaN</td>\n      <td>NaN</td>\n    </tr>\n    <tr>\n      <th>11</th>\n      <td>7375</td>\n      <td>M</td>\n      <td>White</td>\n      <td>1965-04-05</td>\n      <td>Sergeant</td>\n      <td>No</td>\n      <td>1941.0</td>\n      <td>James</td>\n      <td>Drewganis</td>\n      <td>NaN</td>\n      <td>W</td>\n      <td>NaN</td>\n      <td>1995-07-16</td>\n      <td>76.6708</td>\n      <td>NaN</td>\n      <td>NaN</td>\n      <td>0.0</td>\n      <td>NaN</td>\n      <td>NaN</td>\n    </tr>\n    <tr>\n      <th>12</th>\n      <td>7769</td>\n      <td>M</td>\n      <td>Black</td>\n      <td>1966-06-06</td>\n      <td>Police Officer</td>\n      <td>No</td>\n      <td>1938.0</td>\n      <td>Charles</td>\n      <td>Edwards</td>\n      <td>NaN</td>\n      <td>N</td>\n      <td>NaN</td>\n      <td>1995-02-17</td>\n      <td>46.3960</td>\n      <td>NaN</td>\n      <td>NaN</td>\n      <td>0.0</td>\n      <td>NaN</td>\n      <td>NaN</td>\n    </tr>\n    <tr>\n      <th>13</th>\n      <td>7811</td>\n      <td>M</td>\n      <td>White</td>\n      <td>1967-12-18</td>\n      <td>Police Officer</td>\n      <td>No</td>\n      <td>1943.0</td>\n      <td>Richard</td>\n      <td>Ehrmann</td>\n      <td>NaN</td>\n      <td>B</td>\n      <td>NaN</td>\n      <td>1995-03-03</td>\n      <td>89.2942</td>\n      <td>NaN</td>\n      <td>NaN</td>\n      <td>0.0</td>\n      <td>NaN</td>\n      <td>NaN</td>\n    </tr>\n    <tr>\n      <th>14</th>\n      <td>7956</td>\n      <td>M</td>\n      <td>White</td>\n      <td>1968-03-25</td>\n      <td>Police Officer</td>\n      <td>No</td>\n      <td>1945.0</td>\n      <td>Philip</td>\n      <td>Englert</td>\n      <td>NaN</td>\n      <td>M</td>\n      <td>NaN</td>\n      <td>1995-07-01</td>\n      <td>0.0000</td>\n      <td>NaN</td>\n      <td>NaN</td>\n      <td>0.0</td>\n      <td>NaN</td>\n      <td>NaN</td>\n    </tr>\n    <tr>\n      <th>15</th>\n      <td>8016</td>\n      <td>M</td>\n      <td>Black</td>\n      <td>1966-02-07</td>\n      <td>Police Officer</td>\n      <td>No</td>\n      <td>1938.0</td>\n      <td>Eugene</td>\n      <td>Ervin</td>\n      <td>NaN</td>\n      <td>NaN</td>\n      <td>NaN</td>\n      <td>1995-03-23</td>\n      <td>35.6777</td>\n      <td>NaN</td>\n      <td>NaN</td>\n      <td>0.0</td>\n      <td>NaN</td>\n      <td>NaN</td>\n    </tr>\n    <tr>\n      <th>16</th>\n      <td>8570</td>\n      <td>M</td>\n      <td>White</td>\n      <td>1960-10-10</td>\n      <td>Police Officer</td>\n      <td>No</td>\n      <td>1936.0</td>\n      <td>Frank</td>\n      <td>Fiore</td>\n      <td>NaN</td>\n      <td>A</td>\n      <td>NaN</td>\n      <td>1995-03-09</td>\n      <td>0.0000</td>\n      <td>NaN</td>\n      <td>NaN</td>\n      <td>0.0</td>\n      <td>NaN</td>\n      <td>NaN</td>\n    </tr>\n    <tr>\n      <th>17</th>\n      <td>8812</td>\n      <td>M</td>\n      <td>Hispanic</td>\n      <td>1977-07-18</td>\n      <td>Police Officer</td>\n      <td>No</td>\n      <td>1943.0</td>\n      <td>Louis</td>\n      <td>Flores</td>\n      <td>NaN</td>\n      <td>NaN</td>\n      <td>JR</td>\n      <td>1995-06-05</td>\n      <td>68.0200</td>\n      <td>NaN</td>\n      <td>NaN</td>\n      <td>0.0</td>\n      <td>NaN</td>\n      <td>NaN</td>\n    </tr>\n    <tr>\n      <th>18</th>\n      <td>8814</td>\n      <td>M</td>\n      <td>Hispanic</td>\n      <td>1970-06-15</td>\n      <td>Police Officer</td>\n      <td>No</td>\n      <td>1944.0</td>\n      <td>Joseph</td>\n      <td>Floress</td>\n      <td>NaN</td>\n      <td>A</td>\n      <td>NaN</td>\n      <td>1995-02-16</td>\n      <td>35.7589</td>\n      <td>NaN</td>\n      <td>NaN</td>\n      <td>0.0</td>\n      <td>NaN</td>\n      <td>NaN</td>\n    </tr>\n    <tr>\n      <th>19</th>\n      <td>9098</td>\n      <td>M</td>\n      <td>White</td>\n      <td>1981-06-08</td>\n      <td>Police Officer</td>\n      <td>No</td>\n      <td>1950.0</td>\n      <td>Terrence</td>\n      <td>Franzen</td>\n      <td>NaN</td>\n      <td>NaN</td>\n      <td>NaN</td>\n      <td>1995-08-04</td>\n      <td>67.6015</td>\n      <td>NaN</td>\n      <td>NaN</td>\n      <td>0.0</td>\n      <td>NaN</td>\n      <td>NaN</td>\n    </tr>\n  </tbody>\n</table>\n</div>"
     },
     "metadata": {},
     "output_type": "execute_result",
     "execution_count": 17
    }
   ],
   "source": [
    "df_officers.head(20)"
   ]
  },
  {
   "cell_type": "code",
   "execution_count": 18,
   "metadata": {
    "pycharm": {
     "is_executing": false
    }
   },
   "outputs": [
    {
     "data": {
      "text/plain": "Index(['id', 'gender', 'race', 'appointed_date', 'rank', 'active',\n       'birth_year', 'first_name', 'last_name', 'tags', 'middle_initial',\n       'suffix_name', 'resignation_date', 'complaint_percentile',\n       'middle_initial2', 'civilian_allegation_percentile',\n       'honorable_mention_percentile', 'internal_allegation_percentile',\n       'trr_percentile'],\n      dtype='object')"
     },
     "metadata": {},
     "output_type": "execute_result",
     "execution_count": 18
    }
   ],
   "source": [
    "df_officers.columns"
   ]
  },
  {
   "cell_type": "markdown",
   "metadata": {},
   "source": [
    "## Adding a column for the full name"
   ]
  },
  {
   "cell_type": "code",
   "execution_count": 19,
   "metadata": {
    "pycharm": {
     "is_executing": false
    }
   },
   "outputs": [],
   "source": [
    "df_officers['middle_initial'] = df_officers['middle_initial'].apply(lambda x: x + '.' if type(x) == str else '')\n",
    "df_officers['suffix_name'] = df_officers['suffix_name'].fillna('')"
   ]
  },
  {
   "cell_type": "code",
   "execution_count": 20,
   "metadata": {
    "pycharm": {
     "is_executing": false
    }
   },
   "outputs": [],
   "source": [
    "df_officers['full_name'] = df_officers['first_name'] + ' '\\\n",
    "                         + df_officers['middle_initial'] + ' '\\\n",
    "                         + df_officers['last_name'] + ' '\\\n",
    "                         + df_officers['suffix_name']"
   ]
  },
  {
   "cell_type": "code",
   "execution_count": 21,
   "metadata": {
    "pycharm": {
     "is_executing": false
    }
   },
   "outputs": [],
   "source": [
    "df_officers['full_name'] = df_officers['full_name'].str.strip().str.replace('  ',' ').str.upper()"
   ]
  },
  {
   "cell_type": "markdown",
   "metadata": {},
   "source": [
    "## Adding a column for the parsed date (now datetime object)"
   ]
  },
  {
   "cell_type": "code",
   "execution_count": 22,
   "metadata": {
    "pycharm": {
     "is_executing": false
    }
   },
   "outputs": [],
   "source": [
    "df_officers['parsed_date'] = pd.to_datetime(df_officers['appointed_date'])"
   ]
  },
  {
   "cell_type": "code",
   "execution_count": 23,
   "metadata": {
    "pycharm": {
     "is_executing": false
    }
   },
   "outputs": [
    {
     "data": {
      "text/plain": "     id gender   race appointed_date            rank active  birth_year  \\\n0  3728      M  Black     1966-12-19      Lieutenant     No      1945.0   \n1  4316      M  White     1965-03-01  Police Officer     No      1934.0   \n2  4526      M  White     1961-02-13       Detective     No      1935.0   \n3  5039      M  White     1967-11-20        Sergeant     No      1937.0   \n4  5238      M  White     1966-02-28  Police Officer     No      1939.0   \n\n  first_name     last_name tags  ... suffix_name resignation_date  \\\n0       Jake       Cameron  NaN  ...          JR       1995-02-16   \n1     Donald  Centnarowicz  NaN  ...                   1995-03-16   \n2     Daniel        Chilla  NaN  ...                   1995-06-07   \n3     Dennis       Collins  NaN  ...                   1995-02-26   \n4     Carmen     Consolino  NaN  ...                   1995-04-13   \n\n  complaint_percentile  middle_initial2 civilian_allegation_percentile  \\\n0              54.9532              NaN                            NaN   \n1               0.0000              NaN                            NaN   \n2               0.0000              NaN                            NaN   \n3              54.8532              NaN                            NaN   \n4              35.6277              NaN                            NaN   \n\n   honorable_mention_percentile  internal_allegation_percentile  \\\n0                           0.0                             NaN   \n1                           0.0                             NaN   \n2                           0.0                             NaN   \n3                           0.0                             NaN   \n4                           0.0                             NaN   \n\n   trr_percentile               full_name parsed_date  \n0             NaN      JAKE B. CAMERON JR  1966-12-19  \n1             NaN  DONALD E. CENTNAROWICZ  1965-03-01  \n2             NaN        DANIEL S. CHILLA  1961-02-13  \n3             NaN       DENNIS F. COLLINS  1967-11-20  \n4             NaN     CARMEN A. CONSOLINO  1966-02-28  \n\n[5 rows x 21 columns]",
      "text/html": "<div>\n<style scoped>\n    .dataframe tbody tr th:only-of-type {\n        vertical-align: middle;\n    }\n\n    .dataframe tbody tr th {\n        vertical-align: top;\n    }\n\n    .dataframe thead th {\n        text-align: right;\n    }\n</style>\n<table border=\"1\" class=\"dataframe\">\n  <thead>\n    <tr style=\"text-align: right;\">\n      <th></th>\n      <th>id</th>\n      <th>gender</th>\n      <th>race</th>\n      <th>appointed_date</th>\n      <th>rank</th>\n      <th>active</th>\n      <th>birth_year</th>\n      <th>first_name</th>\n      <th>last_name</th>\n      <th>tags</th>\n      <th>...</th>\n      <th>suffix_name</th>\n      <th>resignation_date</th>\n      <th>complaint_percentile</th>\n      <th>middle_initial2</th>\n      <th>civilian_allegation_percentile</th>\n      <th>honorable_mention_percentile</th>\n      <th>internal_allegation_percentile</th>\n      <th>trr_percentile</th>\n      <th>full_name</th>\n      <th>parsed_date</th>\n    </tr>\n  </thead>\n  <tbody>\n    <tr>\n      <th>0</th>\n      <td>3728</td>\n      <td>M</td>\n      <td>Black</td>\n      <td>1966-12-19</td>\n      <td>Lieutenant</td>\n      <td>No</td>\n      <td>1945.0</td>\n      <td>Jake</td>\n      <td>Cameron</td>\n      <td>NaN</td>\n      <td>...</td>\n      <td>JR</td>\n      <td>1995-02-16</td>\n      <td>54.9532</td>\n      <td>NaN</td>\n      <td>NaN</td>\n      <td>0.0</td>\n      <td>NaN</td>\n      <td>NaN</td>\n      <td>JAKE B. CAMERON JR</td>\n      <td>1966-12-19</td>\n    </tr>\n    <tr>\n      <th>1</th>\n      <td>4316</td>\n      <td>M</td>\n      <td>White</td>\n      <td>1965-03-01</td>\n      <td>Police Officer</td>\n      <td>No</td>\n      <td>1934.0</td>\n      <td>Donald</td>\n      <td>Centnarowicz</td>\n      <td>NaN</td>\n      <td>...</td>\n      <td></td>\n      <td>1995-03-16</td>\n      <td>0.0000</td>\n      <td>NaN</td>\n      <td>NaN</td>\n      <td>0.0</td>\n      <td>NaN</td>\n      <td>NaN</td>\n      <td>DONALD E. CENTNAROWICZ</td>\n      <td>1965-03-01</td>\n    </tr>\n    <tr>\n      <th>2</th>\n      <td>4526</td>\n      <td>M</td>\n      <td>White</td>\n      <td>1961-02-13</td>\n      <td>Detective</td>\n      <td>No</td>\n      <td>1935.0</td>\n      <td>Daniel</td>\n      <td>Chilla</td>\n      <td>NaN</td>\n      <td>...</td>\n      <td></td>\n      <td>1995-06-07</td>\n      <td>0.0000</td>\n      <td>NaN</td>\n      <td>NaN</td>\n      <td>0.0</td>\n      <td>NaN</td>\n      <td>NaN</td>\n      <td>DANIEL S. CHILLA</td>\n      <td>1961-02-13</td>\n    </tr>\n    <tr>\n      <th>3</th>\n      <td>5039</td>\n      <td>M</td>\n      <td>White</td>\n      <td>1967-11-20</td>\n      <td>Sergeant</td>\n      <td>No</td>\n      <td>1937.0</td>\n      <td>Dennis</td>\n      <td>Collins</td>\n      <td>NaN</td>\n      <td>...</td>\n      <td></td>\n      <td>1995-02-26</td>\n      <td>54.8532</td>\n      <td>NaN</td>\n      <td>NaN</td>\n      <td>0.0</td>\n      <td>NaN</td>\n      <td>NaN</td>\n      <td>DENNIS F. COLLINS</td>\n      <td>1967-11-20</td>\n    </tr>\n    <tr>\n      <th>4</th>\n      <td>5238</td>\n      <td>M</td>\n      <td>White</td>\n      <td>1966-02-28</td>\n      <td>Police Officer</td>\n      <td>No</td>\n      <td>1939.0</td>\n      <td>Carmen</td>\n      <td>Consolino</td>\n      <td>NaN</td>\n      <td>...</td>\n      <td></td>\n      <td>1995-04-13</td>\n      <td>35.6277</td>\n      <td>NaN</td>\n      <td>NaN</td>\n      <td>0.0</td>\n      <td>NaN</td>\n      <td>NaN</td>\n      <td>CARMEN A. CONSOLINO</td>\n      <td>1966-02-28</td>\n    </tr>\n  </tbody>\n</table>\n<p>5 rows × 21 columns</p>\n</div>"
     },
     "metadata": {},
     "output_type": "execute_result",
     "execution_count": 23
    }
   ],
   "source": [
    "df_officers.head()"
   ]
  },
  {
   "cell_type": "markdown",
   "metadata": {},
   "source": [
    "## Loading OfficerArrest table (resulting from Challenge #1)"
   ]
  },
  {
   "cell_type": "code",
   "execution_count": 24,
   "metadata": {
    "pycharm": {
     "is_executing": false
    }
   },
   "outputs": [],
   "source": [
    "df_officerarrests = pd.read_csv(os.getcwd() + os.sep + 'data' + os.sep + 'data_officerarrest.csv')"
   ]
  },
  {
   "cell_type": "markdown",
   "metadata": {},
   "source": [
    "## Adding a column for the parsed date (now datetime object)"
   ]
  },
  {
   "cell_type": "code",
   "execution_count": 25,
   "metadata": {
    "pycharm": {
     "is_executing": false
    }
   },
   "outputs": [],
   "source": [
    "df_officerarrests['parsed_date'] = pd.to_datetime(df_officerarrests['APPOINTED DATE'])"
   ]
  },
  {
   "cell_type": "markdown",
   "metadata": {},
   "source": [
    "## Being extra safe on the full name strings"
   ]
  },
  {
   "cell_type": "code",
   "execution_count": 26,
   "metadata": {
    "pycharm": {
     "is_executing": false
    }
   },
   "outputs": [],
   "source": [
    "df_officerarrests[\"OFFICER'S NAME\"] = df_officerarrests[\"OFFICER'S NAME\"].str.strip()"
   ]
  },
  {
   "cell_type": "code",
   "execution_count": 27,
   "metadata": {
    "pycharm": {
     "is_executing": false
    }
   },
   "outputs": [
    {
     "data": {
      "text/plain": "     CB_number  arrest_year arrest_id         ID  CB Number3  \\\n0   17126912.0         2008  14993818  2478773.0  17126912.0   \n1   17126912.0         2008  14993818  2478774.0  17126912.0   \n2   17127045.0         2008  14993895  2478914.0  17127045.0   \n3   17127045.0         2008  14993895  2478915.0  17127045.0   \n4   17127046.0         2008  14993896  2478916.0  17127046.0   \n5   17127046.0         2008  14993896  2478917.0  17127046.0   \n6   17127667.0         2008  14994648  2479588.0  17127667.0   \n7   17127667.0         2008  14994648  2479589.0  17127667.0   \n8   17127779.0         2008  14994764  2479722.0  17127779.0   \n9   17127779.0         2008  14994764  2479723.0  17127779.0   \n10  17367015.0         2008  15260514  2710075.0  17367015.0   \n11  17367015.0         2008  15260514  2710076.0  17367015.0   \n12  17127120.0         2008  14994007  2479020.0  17127120.0   \n13  17127120.0         2008  14994007  2479021.0  17127120.0   \n14  17127125.0         2008  14994008  2479028.0  17127125.0   \n15  17127125.0         2008  14994008  2479029.0  17127125.0   \n16  17132132.0         2008  14999420  2484108.0  17132132.0   \n17  17132132.0         2008  14999420  2484109.0  17132132.0   \n18  17132133.0         2008  14999421  2484110.0  17132133.0   \n19  17132133.0         2008  14999421  2484111.0  17132133.0   \n\n           OFFICER'S NAME APPOINTED DATE FIRST NAME MIDDLE INITIAL  \\\n0         CAROL D. MCGHEE     09/30/2002      CAROL             D.   \n1          MEGAN M. LYONS     02/28/2000      MEGAN             M.   \n2         BRIAN G. MURPHY     04/30/2001      BRIAN             G.   \n3         RYAN M. MANNING     10/10/2000       RYAN             M.   \n4        DEREK D. DARNALL     09/27/2004      DEREK             D.   \n5       MICHAEL J. ONESTO     10/31/2005    MICHAEL             J.   \n6       JASON D. VAN DYKE     06/25/2001      JASON             D.   \n7      NICHOLAS E. LUDWIG     09/11/2000   NICHOLAS             E.   \n8       CHRIS H. ANDERSEN     09/27/2004      CHRIS             H.   \n9      KEVIN L. CARLQUIST     04/28/2003      KEVIN             L.   \n10       RONALD G. WRIGHT     10/10/2000     RONALD             G.   \n11   RONALD P. MALCZYNSKI     05/10/1999     RONALD             P.   \n12  ANTHONY L. RICHARDSON     09/13/1999    ANTHONY             L.   \n13        STEVEN E. BROCK     04/13/1998     STEVEN             E.   \n14     TIMOTHY A. ULDRYCH     04/29/2002    TIMOTHY             A.   \n15     WILLIAM E. LEVIGNE      07/7/1997    WILLIAM             E.   \n16       DANIEL F. SAMMON      05/1/2006     DANIEL             F.   \n17          NADINE BAHENA     06/26/2006     NADINE            NaN   \n18            JOE A. HOLT     10/25/2004        JOE             A.   \n19         TRACEY D. DREW     12/18/2006     TRACEY             D.   \n\n     LAST NAME SUFFIX NAME parsed_date  \n0       MCGHEE         NaN  2002-09-30  \n1        LYONS         NaN  2000-02-28  \n2       MURPHY         NaN  2001-04-30  \n3      MANNING         NaN  2000-10-10  \n4      DARNALL         NaN  2004-09-27  \n5       ONESTO         NaN  2005-10-31  \n6     VAN DYKE         NaN  2001-06-25  \n7       LUDWIG         NaN  2000-09-11  \n8     ANDERSEN         NaN  2004-09-27  \n9    CARLQUIST         NaN  2003-04-28  \n10      WRIGHT         NaN  2000-10-10  \n11  MALCZYNSKI         NaN  1999-05-10  \n12  RICHARDSON         NaN  1999-09-13  \n13       BROCK         NaN  1998-04-13  \n14     ULDRYCH         NaN  2002-04-29  \n15     LEVIGNE         NaN  1997-07-07  \n16      SAMMON         NaN  2006-05-01  \n17      BAHENA         NaN  2006-06-26  \n18        HOLT         NaN  2004-10-25  \n19        DREW         NaN  2006-12-18  ",
      "text/html": "<div>\n<style scoped>\n    .dataframe tbody tr th:only-of-type {\n        vertical-align: middle;\n    }\n\n    .dataframe tbody tr th {\n        vertical-align: top;\n    }\n\n    .dataframe thead th {\n        text-align: right;\n    }\n</style>\n<table border=\"1\" class=\"dataframe\">\n  <thead>\n    <tr style=\"text-align: right;\">\n      <th></th>\n      <th>CB_number</th>\n      <th>arrest_year</th>\n      <th>arrest_id</th>\n      <th>ID</th>\n      <th>CB Number3</th>\n      <th>OFFICER'S NAME</th>\n      <th>APPOINTED DATE</th>\n      <th>FIRST NAME</th>\n      <th>MIDDLE INITIAL</th>\n      <th>LAST NAME</th>\n      <th>SUFFIX NAME</th>\n      <th>parsed_date</th>\n    </tr>\n  </thead>\n  <tbody>\n    <tr>\n      <th>0</th>\n      <td>17126912.0</td>\n      <td>2008</td>\n      <td>14993818</td>\n      <td>2478773.0</td>\n      <td>17126912.0</td>\n      <td>CAROL D. MCGHEE</td>\n      <td>09/30/2002</td>\n      <td>CAROL</td>\n      <td>D.</td>\n      <td>MCGHEE</td>\n      <td>NaN</td>\n      <td>2002-09-30</td>\n    </tr>\n    <tr>\n      <th>1</th>\n      <td>17126912.0</td>\n      <td>2008</td>\n      <td>14993818</td>\n      <td>2478774.0</td>\n      <td>17126912.0</td>\n      <td>MEGAN M. LYONS</td>\n      <td>02/28/2000</td>\n      <td>MEGAN</td>\n      <td>M.</td>\n      <td>LYONS</td>\n      <td>NaN</td>\n      <td>2000-02-28</td>\n    </tr>\n    <tr>\n      <th>2</th>\n      <td>17127045.0</td>\n      <td>2008</td>\n      <td>14993895</td>\n      <td>2478914.0</td>\n      <td>17127045.0</td>\n      <td>BRIAN G. MURPHY</td>\n      <td>04/30/2001</td>\n      <td>BRIAN</td>\n      <td>G.</td>\n      <td>MURPHY</td>\n      <td>NaN</td>\n      <td>2001-04-30</td>\n    </tr>\n    <tr>\n      <th>3</th>\n      <td>17127045.0</td>\n      <td>2008</td>\n      <td>14993895</td>\n      <td>2478915.0</td>\n      <td>17127045.0</td>\n      <td>RYAN M. MANNING</td>\n      <td>10/10/2000</td>\n      <td>RYAN</td>\n      <td>M.</td>\n      <td>MANNING</td>\n      <td>NaN</td>\n      <td>2000-10-10</td>\n    </tr>\n    <tr>\n      <th>4</th>\n      <td>17127046.0</td>\n      <td>2008</td>\n      <td>14993896</td>\n      <td>2478916.0</td>\n      <td>17127046.0</td>\n      <td>DEREK D. DARNALL</td>\n      <td>09/27/2004</td>\n      <td>DEREK</td>\n      <td>D.</td>\n      <td>DARNALL</td>\n      <td>NaN</td>\n      <td>2004-09-27</td>\n    </tr>\n    <tr>\n      <th>5</th>\n      <td>17127046.0</td>\n      <td>2008</td>\n      <td>14993896</td>\n      <td>2478917.0</td>\n      <td>17127046.0</td>\n      <td>MICHAEL J. ONESTO</td>\n      <td>10/31/2005</td>\n      <td>MICHAEL</td>\n      <td>J.</td>\n      <td>ONESTO</td>\n      <td>NaN</td>\n      <td>2005-10-31</td>\n    </tr>\n    <tr>\n      <th>6</th>\n      <td>17127667.0</td>\n      <td>2008</td>\n      <td>14994648</td>\n      <td>2479588.0</td>\n      <td>17127667.0</td>\n      <td>JASON D. VAN DYKE</td>\n      <td>06/25/2001</td>\n      <td>JASON</td>\n      <td>D.</td>\n      <td>VAN DYKE</td>\n      <td>NaN</td>\n      <td>2001-06-25</td>\n    </tr>\n    <tr>\n      <th>7</th>\n      <td>17127667.0</td>\n      <td>2008</td>\n      <td>14994648</td>\n      <td>2479589.0</td>\n      <td>17127667.0</td>\n      <td>NICHOLAS E. LUDWIG</td>\n      <td>09/11/2000</td>\n      <td>NICHOLAS</td>\n      <td>E.</td>\n      <td>LUDWIG</td>\n      <td>NaN</td>\n      <td>2000-09-11</td>\n    </tr>\n    <tr>\n      <th>8</th>\n      <td>17127779.0</td>\n      <td>2008</td>\n      <td>14994764</td>\n      <td>2479722.0</td>\n      <td>17127779.0</td>\n      <td>CHRIS H. ANDERSEN</td>\n      <td>09/27/2004</td>\n      <td>CHRIS</td>\n      <td>H.</td>\n      <td>ANDERSEN</td>\n      <td>NaN</td>\n      <td>2004-09-27</td>\n    </tr>\n    <tr>\n      <th>9</th>\n      <td>17127779.0</td>\n      <td>2008</td>\n      <td>14994764</td>\n      <td>2479723.0</td>\n      <td>17127779.0</td>\n      <td>KEVIN L. CARLQUIST</td>\n      <td>04/28/2003</td>\n      <td>KEVIN</td>\n      <td>L.</td>\n      <td>CARLQUIST</td>\n      <td>NaN</td>\n      <td>2003-04-28</td>\n    </tr>\n    <tr>\n      <th>10</th>\n      <td>17367015.0</td>\n      <td>2008</td>\n      <td>15260514</td>\n      <td>2710075.0</td>\n      <td>17367015.0</td>\n      <td>RONALD G. WRIGHT</td>\n      <td>10/10/2000</td>\n      <td>RONALD</td>\n      <td>G.</td>\n      <td>WRIGHT</td>\n      <td>NaN</td>\n      <td>2000-10-10</td>\n    </tr>\n    <tr>\n      <th>11</th>\n      <td>17367015.0</td>\n      <td>2008</td>\n      <td>15260514</td>\n      <td>2710076.0</td>\n      <td>17367015.0</td>\n      <td>RONALD P. MALCZYNSKI</td>\n      <td>05/10/1999</td>\n      <td>RONALD</td>\n      <td>P.</td>\n      <td>MALCZYNSKI</td>\n      <td>NaN</td>\n      <td>1999-05-10</td>\n    </tr>\n    <tr>\n      <th>12</th>\n      <td>17127120.0</td>\n      <td>2008</td>\n      <td>14994007</td>\n      <td>2479020.0</td>\n      <td>17127120.0</td>\n      <td>ANTHONY L. RICHARDSON</td>\n      <td>09/13/1999</td>\n      <td>ANTHONY</td>\n      <td>L.</td>\n      <td>RICHARDSON</td>\n      <td>NaN</td>\n      <td>1999-09-13</td>\n    </tr>\n    <tr>\n      <th>13</th>\n      <td>17127120.0</td>\n      <td>2008</td>\n      <td>14994007</td>\n      <td>2479021.0</td>\n      <td>17127120.0</td>\n      <td>STEVEN E. BROCK</td>\n      <td>04/13/1998</td>\n      <td>STEVEN</td>\n      <td>E.</td>\n      <td>BROCK</td>\n      <td>NaN</td>\n      <td>1998-04-13</td>\n    </tr>\n    <tr>\n      <th>14</th>\n      <td>17127125.0</td>\n      <td>2008</td>\n      <td>14994008</td>\n      <td>2479028.0</td>\n      <td>17127125.0</td>\n      <td>TIMOTHY A. ULDRYCH</td>\n      <td>04/29/2002</td>\n      <td>TIMOTHY</td>\n      <td>A.</td>\n      <td>ULDRYCH</td>\n      <td>NaN</td>\n      <td>2002-04-29</td>\n    </tr>\n    <tr>\n      <th>15</th>\n      <td>17127125.0</td>\n      <td>2008</td>\n      <td>14994008</td>\n      <td>2479029.0</td>\n      <td>17127125.0</td>\n      <td>WILLIAM E. LEVIGNE</td>\n      <td>07/7/1997</td>\n      <td>WILLIAM</td>\n      <td>E.</td>\n      <td>LEVIGNE</td>\n      <td>NaN</td>\n      <td>1997-07-07</td>\n    </tr>\n    <tr>\n      <th>16</th>\n      <td>17132132.0</td>\n      <td>2008</td>\n      <td>14999420</td>\n      <td>2484108.0</td>\n      <td>17132132.0</td>\n      <td>DANIEL F. SAMMON</td>\n      <td>05/1/2006</td>\n      <td>DANIEL</td>\n      <td>F.</td>\n      <td>SAMMON</td>\n      <td>NaN</td>\n      <td>2006-05-01</td>\n    </tr>\n    <tr>\n      <th>17</th>\n      <td>17132132.0</td>\n      <td>2008</td>\n      <td>14999420</td>\n      <td>2484109.0</td>\n      <td>17132132.0</td>\n      <td>NADINE BAHENA</td>\n      <td>06/26/2006</td>\n      <td>NADINE</td>\n      <td>NaN</td>\n      <td>BAHENA</td>\n      <td>NaN</td>\n      <td>2006-06-26</td>\n    </tr>\n    <tr>\n      <th>18</th>\n      <td>17132133.0</td>\n      <td>2008</td>\n      <td>14999421</td>\n      <td>2484110.0</td>\n      <td>17132133.0</td>\n      <td>JOE A. HOLT</td>\n      <td>10/25/2004</td>\n      <td>JOE</td>\n      <td>A.</td>\n      <td>HOLT</td>\n      <td>NaN</td>\n      <td>2004-10-25</td>\n    </tr>\n    <tr>\n      <th>19</th>\n      <td>17132133.0</td>\n      <td>2008</td>\n      <td>14999421</td>\n      <td>2484111.0</td>\n      <td>17132133.0</td>\n      <td>TRACEY D. DREW</td>\n      <td>12/18/2006</td>\n      <td>TRACEY</td>\n      <td>D.</td>\n      <td>DREW</td>\n      <td>NaN</td>\n      <td>2006-12-18</td>\n    </tr>\n  </tbody>\n</table>\n</div>"
     },
     "metadata": {},
     "output_type": "execute_result",
     "execution_count": 27
    }
   ],
   "source": [
    "df_officerarrests.head(20)"
   ]
  },
  {
   "cell_type": "markdown",
   "metadata": {},
   "source": [
    "## First attempt:\n",
    "### 1. Narrow down the search space by doing an exact match on the appointed dates.\n",
    "### 2. Try an exact, single match based on the names."
   ]
  },
  {
   "cell_type": "code",
   "execution_count": null,
   "metadata": {
    "pycharm": {
     "is_executing": true
    }
   },
   "outputs": [
    {
     "name": "stdout",
     "text": [
      ".",
      ".",
      ".",
      ".",
      ".",
      ".",
      ".",
      ".",
      ".",
      ".",
      ".",
      ".",
      ".",
      ".",
      ".",
      ".",
      ".",
      ".",
      ".",
      ".",
      ".",
      ".",
      ".",
      ".",
      ".",
      ".",
      ".",
      ".",
      ".",
      ".",
      ".",
      ".",
      ".",
      ".",
      ".",
      ".",
      ".",
      ".",
      ".",
      ".",
      ".",
      ".",
      ".",
      ".",
      ".",
      ".",
      ".",
      ".",
      ".",
      ".",
      ".",
      ".",
      ".",
      ".",
      ".",
      ".",
      ".",
      ".",
      ".",
      ".",
      ".",
      ".",
      ".",
      ".",
      ".",
      ".",
      ".",
      ".",
      ".",
      ".",
      ".",
      ".",
      ".",
      ".",
      ".",
      ".",
      ".",
      ".",
      ".",
      ".",
      ".",
      ".",
      ".",
      ".",
      ".",
      ".",
      ".",
      ".",
      ".",
      ".",
      ".",
      ".",
      ".",
      ".",
      ".",
      ".",
      ".",
      ".",
      ".",
      ".\n\n",
      ".",
      ".",
      ".",
      ".",
      ".",
      ".",
      ".",
      ".",
      ".",
      ".",
      ".",
      ".",
      ".",
      ".",
      ".",
      ".",
      ".",
      ".",
      ".",
      ".",
      ".",
      ".",
      ".",
      ".",
      ".",
      ".",
      ".",
      ".",
      ".",
      ".",
      ".",
      ".",
      ".",
      ".",
      ".",
      ".",
      ".",
      ".",
      ".",
      ".",
      ".",
      ".",
      ".",
      ".",
      ".",
      ".",
      ".",
      ".",
      ".",
      ".",
      ".",
      ".",
      ".",
      ".",
      ".",
      ".",
      ".",
      ".",
      ".",
      ".",
      ".",
      ".",
      ".",
      ".",
      ".",
      ".",
      ".",
      ".",
      ".",
      ".",
      ".",
      ".",
      ".",
      ".",
      ".",
      ".",
      ".",
      ".",
      ".",
      ".",
      ".",
      ".",
      ".",
      ".",
      ".",
      ".",
      ".",
      ".",
      ".",
      ".",
      ".",
      ".",
      ".",
      ".",
      ".",
      ".",
      ".",
      ".",
      ".",
      ".\n\n",
      ".",
      ".",
      ".",
      ".",
      ".",
      ".",
      ".",
      ".",
      ".",
      ".",
      ".",
      ".",
      ".",
      ".",
      ".",
      ".",
      ".",
      ".",
      ".",
      "."
     ],
     "output_type": "stream"
    }
   ],
   "source": [
    "matches = []\n",
    "\n",
    "for i, oa in enumerate(df_officerarrests.iterrows()):\n",
    "    oa_index = oa[0]\n",
    "    oa_date = oa[1]['parsed_date']\n",
    "    oa_full_name = oa[1][\"OFFICER'S NAME\"]\n",
    "    date_matches = df_officers[df_officers['parsed_date'] == oa_date]\n",
    "    name_matches = [({'id' : oa_index, 'full_name' : name, 'officer_id' : _id})\\\n",
    "                    for name,_id in zip(date_matches['full_name'],date_matches['id'])\\\n",
    "                    if name == oa_full_name]\n",
    "    if len(name_matches):\n",
    "        matches.append(name_matches[0])\n",
    "    if not ((i + 1) % 10000):\n",
    "        print('.', end='')\n",
    "    if not ((i + 1) % 1000000):\n",
    "        print('\\n')"
   ]
  },
  {
   "cell_type": "code",
   "execution_count": null,
   "metadata": {
    "pycharm": {
     "is_executing": true
    }
   },
   "outputs": [],
   "source": [
    "len(matches) / len(df_officerarrests)"
   ]
  },
  {
   "cell_type": "code",
   "execution_count": null,
   "metadata": {
    "pycharm": {
     "is_executing": true
    }
   },
   "outputs": [],
   "source": [
    "df_matches = pd.DataFrame(matches)"
   ]
  },
  {
   "cell_type": "code",
   "execution_count": null,
   "metadata": {
    "pycharm": {
     "is_executing": true
    }
   },
   "outputs": [],
   "source": [
    "df_matches"
   ]
  },
  {
   "cell_type": "code",
   "execution_count": null,
   "metadata": {
    "pycharm": {
     "is_executing": true
    }
   },
   "outputs": [],
   "source": [
    "df_matches.to_csv(os.getcwd() + os.sep + 'data' + os.sep + 'matches_v2.csv', index=False)"
   ]
  },
  {
   "cell_type": "markdown",
   "metadata": {},
   "source": [
    "## Subset of IDs for which we still don't have matches:"
   ]
  },
  {
   "cell_type": "code",
   "execution_count": null,
   "metadata": {
    "pycharm": {
     "is_executing": true
    }
   },
   "outputs": [],
   "source": [
    "unmatched = set(df_officerarrests.index) - set(df_matches['id'])"
   ]
  },
  {
   "cell_type": "code",
   "execution_count": null,
   "metadata": {
    "pycharm": {
     "is_executing": true
    }
   },
   "outputs": [],
   "source": [
    "len(unmatched)"
   ]
  },
  {
   "cell_type": "code",
   "execution_count": null,
   "metadata": {
    "pycharm": {
     "is_executing": true
    }
   },
   "outputs": [],
   "source": [
    "len(df_officers['full_name'].unique())"
   ]
  },
  {
   "cell_type": "markdown",
   "metadata": {},
   "source": [
    "## Second attempt:\n",
    "### 1. Try a fuzzier match on the names using edit distance, assuming that typos could exist to some extent.\n",
    "### 2. Establish a cutoff of 3 and retrieve the match with smallest edit distance."
   ]
  },
  {
   "cell_type": "code",
   "execution_count": null,
   "metadata": {
    "pycharm": {
     "is_executing": true
    }
   },
   "outputs": [],
   "source": [
    "fuzzy_matches = []\n",
    "\n",
    "for i,_id in enumerate(unmatched):\n",
    "    missing_name = df_officerarrests.iloc[_id][\"OFFICER'S NAME\"]\n",
    "    if type(missing_name) != str:\n",
    "        continue\n",
    "    scores = { candidate : distance(missing_name, candidate) for candidate in df_officers['full_name'].unique() }\n",
    "    good_scores = { k : v for k, v in scores.items() if v <= 3 }\n",
    "    if not len(good_scores):\n",
    "        continue\n",
    "    final_scores = sorted(good_scores.items(), key=lambda x: x[1])\n",
    "    fuzzy_matched = final_scores[0][0]\n",
    "    fuzzy_matches.append({ 'id' : _id,\n",
    "                           'full_name' : fuzzy_matched,\n",
    "                           'officer_id' : df_officers[df_officers['full_name'] == fuzzy_matched]['id'].values[0] })\n",
    "    if not ((i + 1) % 3000):\n",
    "        print('.', end='')"
   ]
  },
  {
   "cell_type": "code",
   "execution_count": null,
   "metadata": {
    "pycharm": {
     "is_executing": true
    },
    "scrolled": true
   },
   "outputs": [],
   "source": [
    "len(fuzzy_matches) / len(unmatched)"
   ]
  },
  {
   "cell_type": "code",
   "execution_count": null,
   "metadata": {
    "pycharm": {
     "is_executing": true
    }
   },
   "outputs": [],
   "source": [
    "(len(fuzzy_matches) + len(matches)) / len(df_officerarrests)"
   ]
  },
  {
   "cell_type": "code",
   "execution_count": null,
   "metadata": {
    "pycharm": {
     "is_executing": true
    }
   },
   "outputs": [],
   "source": [
    "df_fuzzy_matches = pd.DataFrame(fuzzy_matches)"
   ]
  },
  {
   "cell_type": "code",
   "execution_count": null,
   "metadata": {
    "pycharm": {
     "is_executing": true
    }
   },
   "outputs": [],
   "source": [
    "df_fuzzy_matches"
   ]
  },
  {
   "cell_type": "code",
   "execution_count": null,
   "metadata": {
    "pycharm": {
     "is_executing": true
    }
   },
   "outputs": [],
   "source": [
    "df_fuzzy_matches.to_csv(os.getcwd() + os.sep + 'data' + os.sep + 'fuzzy_matches_v2.csv', index=False)"
   ]
  },
  {
   "cell_type": "markdown",
   "metadata": {},
   "source": [
    "## Merge all matches with the original data"
   ]
  },
  {
   "cell_type": "code",
   "execution_count": null,
   "metadata": {
    "pycharm": {
     "is_executing": true
    }
   },
   "outputs": [],
   "source": []
  }
 ],
 "metadata": {
  "kernelspec": {
   "display_name": "Python 3",
   "language": "python",
   "name": "python3"
  },
  "language_info": {
   "codemirror_mode": {
    "name": "ipython",
    "version": 3
   },
   "file_extension": ".py",
   "mimetype": "text/x-python",
   "name": "python",
   "nbconvert_exporter": "python",
   "pygments_lexer": "ipython3",
   "version": "3.6.8"
  },
  "pycharm": {
   "stem_cell": {
    "cell_type": "raw",
    "metadata": {
     "collapsed": false
    },
    "source": []
   }
  }
 },
 "nbformat": 4,
 "nbformat_minor": 2
}